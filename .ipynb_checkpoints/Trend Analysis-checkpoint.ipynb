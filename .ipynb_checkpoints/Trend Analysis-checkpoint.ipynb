{
 "cells": [
  {
   "cell_type": "code",
   "execution_count": 1,
   "metadata": {},
   "outputs": [
    {
     "name": "stdout",
     "output_type": "stream",
     "text": [
      "Requirement already satisfied: tweepy in /Library/Frameworks/Python.framework/Versions/3.8/lib/python3.8/site-packages (3.8.0)\n",
      "Requirement already satisfied: PySocks>=1.5.7 in /Library/Frameworks/Python.framework/Versions/3.8/lib/python3.8/site-packages (from tweepy) (1.7.1)\n",
      "Requirement already satisfied: six>=1.10.0 in /Library/Frameworks/Python.framework/Versions/3.8/lib/python3.8/site-packages (from tweepy) (1.12.0)\n",
      "Requirement already satisfied: requests>=2.11.1 in /Library/Frameworks/Python.framework/Versions/3.8/lib/python3.8/site-packages (from tweepy) (2.22.0)\n",
      "Requirement already satisfied: requests-oauthlib>=0.7.0 in /Library/Frameworks/Python.framework/Versions/3.8/lib/python3.8/site-packages (from tweepy) (1.3.0)\n",
      "Requirement already satisfied: idna<2.9,>=2.5 in /Library/Frameworks/Python.framework/Versions/3.8/lib/python3.8/site-packages (from requests>=2.11.1->tweepy) (2.8)\n",
      "Requirement already satisfied: urllib3!=1.25.0,!=1.25.1,<1.26,>=1.21.1 in /Library/Frameworks/Python.framework/Versions/3.8/lib/python3.8/site-packages (from requests>=2.11.1->tweepy) (1.25.6)\n",
      "Requirement already satisfied: chardet<3.1.0,>=3.0.2 in /Library/Frameworks/Python.framework/Versions/3.8/lib/python3.8/site-packages (from requests>=2.11.1->tweepy) (3.0.4)\n",
      "Requirement already satisfied: certifi>=2017.4.17 in /Library/Frameworks/Python.framework/Versions/3.8/lib/python3.8/site-packages (from requests>=2.11.1->tweepy) (2019.9.11)\n",
      "Requirement already satisfied: oauthlib>=3.0.0 in /Library/Frameworks/Python.framework/Versions/3.8/lib/python3.8/site-packages (from requests-oauthlib>=0.7.0->tweepy) (3.1.0)\n",
      "Note: you may need to restart the kernel to use updated packages.\n"
     ]
    }
   ],
   "source": [
    "pip install tweepy"
   ]
  },
  {
   "cell_type": "code",
   "execution_count": 4,
   "metadata": {},
   "outputs": [],
   "source": [
    "import tweepy\n",
    "import csv\n",
    "import datetime"
   ]
  },
  {
   "cell_type": "code",
   "execution_count": 5,
   "metadata": {},
   "outputs": [],
   "source": [
    "####input your credentials here\n",
    "consumer_key = 'EJ2bzIVQw7jSjJ5o0Cix6CzcS'\n",
    "consumer_secret = 'd8aJEkFQLLyteH4mOjuxgtM3cKZNxPdCGivtWOUyaAvpmbPjQQ'\n",
    "access_token = '1234205131807133696-GQVmr3bBV6bsUMDRPnnP1rpMNwBpXF'\n",
    "access_token_secret = 'ynLMCC0V0y9AWJMo7md7YrWmIN63cSsYtomJJcgqrtDuA'\n",
    "\n",
    "auth = tweepy.OAuthHandler(consumer_key, consumer_secret)\n",
    "auth.set_access_token(access_token, access_token_secret)\n",
    "api = tweepy.API(auth,wait_on_rate_limit=True)"
   ]
  },
  {
   "cell_type": "markdown",
   "metadata": {},
   "source": [
    "# Weekly Tweets"
   ]
  },
  {
   "cell_type": "markdown",
   "metadata": {},
   "source": [
    "### 01/14 - 01/20"
   ]
  },
  {
   "cell_type": "code",
   "execution_count": 4,
   "metadata": {},
   "outputs": [
    {
     "name": "stdout",
     "output_type": "stream",
     "text": [
      "0\n",
      "0\n",
      "0\n",
      "0\n",
      "0\n",
      "0\n",
      "0\n",
      "0\n"
     ]
    }
   ],
   "source": [
    "start_date = datetime.datetime(2020, 1, 14, 00, 00, 00)\n",
    "end_date = datetime.datetime(2020, 1, 21, 00, 00, 00)\n",
    "\n",
    "total = 0\n",
    "china = 0\n",
    "korea = 0\n",
    "italy = 0\n",
    "japan = 0\n",
    "iran = 0\n",
    "singapore = 0\n",
    "us = 0\n",
    "\n",
    "for tweet in tweepy.Cursor(api.search,q=\"#Coronavirus\",\n",
    "                           since=start_date,\n",
    "                           until=end_date).items():\n",
    "    content = tweet.text.lower()\n",
    "    total = total + 1\n",
    "    if(\"china\" in content or \"chinese\" in content):\n",
    "        china = china + 1\n",
    "    if(\"korea\" in content or \"korean\" in content):\n",
    "        korea = korea + 1\n",
    "    if(\"italy\" in content or \"italian\" in content):\n",
    "        italy = italy + 1\n",
    "    if(\"japan\" in content or \"japanese\" in content):\n",
    "        japan = japan + 1\n",
    "    if(\"iran\" in content or \"iranian\" in content):\n",
    "        iran = iran + 1\n",
    "    if(\"singapore\" in content or \"signaporean\" in content):\n",
    "        signapore = singapore + 1\n",
    "    if(\"us\" in content or \"usa\" in content or \"america\" in content or \"american\" in content):\n",
    "        us = us + 1\n",
    "\n",
    "print(total)\n",
    "print(china)\n",
    "print(korea)\n",
    "print(italy)\n",
    "print(japan)\n",
    "print(iran)\n",
    "print(singapore)\n",
    "print(us)"
   ]
  },
  {
   "cell_type": "markdown",
   "metadata": {},
   "source": [
    "### 1/21 - 1/27"
   ]
  },
  {
   "cell_type": "code",
   "execution_count": 5,
   "metadata": {},
   "outputs": [
    {
     "name": "stdout",
     "output_type": "stream",
     "text": [
      "0\n",
      "0\n",
      "0\n",
      "0\n",
      "0\n",
      "0\n",
      "0\n",
      "0\n"
     ]
    }
   ],
   "source": [
    "start_date = datetime.datetime(2020, 1, 21, 00, 00, 00)\n",
    "end_date = datetime.datetime(2020, 1, 28, 00, 00, 00)\n",
    "\n",
    "total = 0\n",
    "china = 0\n",
    "korea = 0\n",
    "italy = 0\n",
    "japan = 0\n",
    "iran = 0\n",
    "singapore = 0\n",
    "us = 0\n",
    "\n",
    "for tweet in tweepy.Cursor(api.search,q=\"#Coronavirus\",\n",
    "                           since=start_date,\n",
    "                           until=end_date).items():\n",
    "    content = tweet.text.lower()\n",
    "    total = total + 1\n",
    "    if(\"china\" in content or \"chinese\" in content):\n",
    "        china = china + 1\n",
    "    if(\"korea\" in content or \"korean\" in content):\n",
    "        korea = korea + 1\n",
    "    if(\"italy\" in content or \"italian\" in content):\n",
    "        italy = italy + 1\n",
    "    if(\"japan\" in content or \"japanese\" in content):\n",
    "        japan = japan + 1\n",
    "    if(\"iran\" in content or \"iranian\" in content):\n",
    "        iran = iran + 1\n",
    "    if(\"singapore\" in content or \"signaporean\" in content):\n",
    "        signapore = singapore + 1\n",
    "    if(\"us\" in content or \"usa\" in content or \"america\" in content or \"american\" in content):\n",
    "        us = us + 1\n",
    "\n",
    "print(total)\n",
    "print(china)\n",
    "print(korea)\n",
    "print(italy)\n",
    "print(japan)\n",
    "print(iran)\n",
    "print(singapore)\n",
    "print(us)"
   ]
  },
  {
   "cell_type": "markdown",
   "metadata": {},
   "source": [
    "### 01/28 - 02/03"
   ]
  },
  {
   "cell_type": "code",
   "execution_count": 6,
   "metadata": {},
   "outputs": [
    {
     "name": "stdout",
     "output_type": "stream",
     "text": [
      "0\n",
      "0\n",
      "0\n",
      "0\n",
      "0\n",
      "0\n",
      "0\n",
      "0\n"
     ]
    }
   ],
   "source": [
    "start_date = datetime.datetime(2020, 1, 28, 00, 00, 00)\n",
    "end_date = datetime.datetime(2020, 2, 4, 00, 00, 00)\n",
    "\n",
    "total = 0\n",
    "china = 0\n",
    "korea = 0\n",
    "italy = 0\n",
    "japan = 0\n",
    "iran = 0\n",
    "singapore = 0\n",
    "us = 0\n",
    "\n",
    "for tweet in tweepy.Cursor(api.search,q=\"#Coronavirus\",\n",
    "                           since=start_date,\n",
    "                           until=end_date).items():\n",
    "    content = tweet.text.lower()\n",
    "    total = total + 1\n",
    "    if(\"china\" in content or \"chinese\" in content):\n",
    "        china = china + 1\n",
    "    if(\"korea\" in content or \"korean\" in content):\n",
    "        korea = korea + 1\n",
    "    if(\"italy\" in content or \"italian\" in content):\n",
    "        italy = italy + 1\n",
    "    if(\"japan\" in content or \"japanese\" in content):\n",
    "        japan = japan + 1\n",
    "    if(\"iran\" in content or \"iranian\" in content):\n",
    "        iran = iran + 1\n",
    "    if(\"singapore\" in content or \"signaporean\" in content):\n",
    "        signapore = singapore + 1\n",
    "    if(\"us\" in content or \"usa\" in content or \"america\" in content or \"american\" in content):\n",
    "        us = us + 1\n",
    "\n",
    "print(total)\n",
    "print(china)\n",
    "print(korea)\n",
    "print(italy)\n",
    "print(japan)\n",
    "print(iran)\n",
    "print(singapore)\n",
    "print(us)"
   ]
  },
  {
   "cell_type": "markdown",
   "metadata": {},
   "source": [
    "### 02/04 - 02/10"
   ]
  },
  {
   "cell_type": "code",
   "execution_count": 7,
   "metadata": {},
   "outputs": [
    {
     "name": "stdout",
     "output_type": "stream",
     "text": [
      "0\n",
      "0\n",
      "0\n",
      "0\n",
      "0\n",
      "0\n",
      "0\n",
      "0\n"
     ]
    }
   ],
   "source": [
    "start_date = datetime.datetime(2020, 2, 4, 00, 00, 00)\n",
    "end_date = datetime.datetime(2020, 2, 11, 00, 00, 00)\n",
    "\n",
    "total = 0\n",
    "china = 0\n",
    "korea = 0\n",
    "italy = 0\n",
    "japan = 0\n",
    "iran = 0\n",
    "singapore = 0\n",
    "us = 0\n",
    "\n",
    "for tweet in tweepy.Cursor(api.search,q=\"#Coronavirus\",\n",
    "                           since=start_date,\n",
    "                           until=end_date).items():\n",
    "    content = tweet.text.lower()\n",
    "    total = total + 1\n",
    "    if(\"china\" in content or \"chinese\" in content):\n",
    "        china = china + 1\n",
    "    if(\"korea\" in content or \"korean\" in content):\n",
    "        korea = korea + 1\n",
    "    if(\"italy\" in content or \"italian\" in content):\n",
    "        italy = italy + 1\n",
    "    if(\"japan\" in content or \"japanese\" in content):\n",
    "        japan = japan + 1\n",
    "    if(\"iran\" in content or \"iranian\" in content):\n",
    "        iran = iran + 1\n",
    "    if(\"singapore\" in content or \"signaporean\" in content):\n",
    "        signapore = singapore + 1\n",
    "    if(\"us\" in content or \"usa\" in content or \"america\" in content or \"american\" in content):\n",
    "        us = us + 1\n",
    "\n",
    "print(total)\n",
    "print(china)\n",
    "print(korea)\n",
    "print(italy)\n",
    "print(japan)\n",
    "print(iran)\n",
    "print(singapore)\n",
    "print(us)"
   ]
  },
  {
   "cell_type": "markdown",
   "metadata": {},
   "source": [
    "### 02/11 - 02/17"
   ]
  },
  {
   "cell_type": "code",
   "execution_count": 8,
   "metadata": {},
   "outputs": [
    {
     "name": "stdout",
     "output_type": "stream",
     "text": [
      "0\n",
      "0\n",
      "0\n",
      "0\n",
      "0\n",
      "0\n",
      "0\n",
      "0\n"
     ]
    }
   ],
   "source": [
    "start_date = datetime.datetime(2020, 2, 11, 00, 00, 00)\n",
    "end_date = datetime.datetime(2020, 2, 17, 00, 00, 00)\n",
    "\n",
    "total = 0\n",
    "china = 0\n",
    "korea = 0\n",
    "italy = 0\n",
    "japan = 0\n",
    "iran = 0\n",
    "singapore = 0\n",
    "us = 0\n",
    "\n",
    "for tweet in tweepy.Cursor(api.search,q=\"#Coronavirus\",\n",
    "                           since=start_date,\n",
    "                           until=end_date).items():\n",
    "    content = tweet.text.lower()\n",
    "    total = total + 1\n",
    "    if(\"china\" in content or \"chinese\" in content):\n",
    "        china = china + 1\n",
    "    if(\"korea\" in content or \"korean\" in content):\n",
    "        korea = korea + 1\n",
    "    if(\"italy\" in content or \"italian\" in content):\n",
    "        italy = italy + 1\n",
    "    if(\"japan\" in content or \"japanese\" in content):\n",
    "        japan = japan + 1\n",
    "    if(\"iran\" in content or \"iranian\" in content):\n",
    "        iran = iran + 1\n",
    "    if(\"singapore\" in content or \"signaporean\" in content):\n",
    "        signapore = singapore + 1\n",
    "    if(\"us\" in content or \"usa\" in content or \"america\" in content or \"american\" in content):\n",
    "        us = us + 1\n",
    "\n",
    "print(total)\n",
    "print(china)\n",
    "print(korea)\n",
    "print(italy)\n",
    "print(japan)\n",
    "print(iran)\n",
    "print(singapore)\n",
    "print(us)"
   ]
  },
  {
   "cell_type": "markdown",
   "metadata": {},
   "source": [
    "### 02/18 - 02/24"
   ]
  },
  {
   "cell_type": "code",
   "execution_count": 10,
   "metadata": {},
   "outputs": [
    {
     "name": "stdout",
     "output_type": "stream",
     "text": [
      "1514\n",
      "42\n",
      "5\n",
      "8\n",
      "7\n",
      "61\n",
      "0\n",
      "787\n"
     ]
    }
   ],
   "source": [
    "start_date = datetime.datetime(2020, 2, 18, 00, 00, 00)\n",
    "end_date = datetime.datetime(2020, 2, 24, 00, 00, 00)\n",
    "\n",
    "total = 0\n",
    "china = 0\n",
    "korea = 0\n",
    "italy = 0\n",
    "japan = 0\n",
    "iran = 0\n",
    "singapore = 0\n",
    "us = 0\n",
    "\n",
    "for tweet in tweepy.Cursor(api.search,q=\"#Coronavirus\",\n",
    "                           since=start_date,\n",
    "                           until=end_date).items():\n",
    "    content = tweet.text.lower()\n",
    "    total = total + 1\n",
    "    if(\"china\" in content or \"chinese\" in content):\n",
    "        china = china + 1\n",
    "    if(\"korea\" in content or \"korean\" in content):\n",
    "        korea = korea + 1\n",
    "    if(\"italy\" in content or \"italian\" in content):\n",
    "        italy = italy + 1\n",
    "    if(\"japan\" in content or \"japanese\" in content):\n",
    "        japan = japan + 1\n",
    "    if(\"iran\" in content or \"iranian\" in content):\n",
    "        iran = iran + 1\n",
    "    if(\"singapore\" in content or \"signaporean\" in content):\n",
    "        signapore = singapore + 1\n",
    "    if(\"us\" in content or \"usa\" in content or \"america\" in content or \"american\" in content):\n",
    "        us = us + 1\n",
    "\n",
    "print(total)\n",
    "print(china)\n",
    "print(korea)\n",
    "print(italy)\n",
    "print(japan)\n",
    "print(iran)\n",
    "print(singapore)\n",
    "print(us)"
   ]
  },
  {
   "cell_type": "markdown",
   "metadata": {},
   "source": [
    "# Daily Tweets"
   ]
  },
  {
   "cell_type": "markdown",
   "metadata": {},
   "source": [
    "### 02/18"
   ]
  },
  {
   "cell_type": "code",
   "execution_count": 11,
   "metadata": {},
   "outputs": [
    {
     "name": "stdout",
     "output_type": "stream",
     "text": [
      "0\n",
      "0\n",
      "0\n",
      "0\n",
      "0\n",
      "0\n",
      "0\n",
      "0\n"
     ]
    }
   ],
   "source": [
    "start_date = datetime.datetime(2020, 2, 18, 00, 00, 00)\n",
    "end_date = datetime.datetime(2020, 2, 19, 00, 00, 00)\n",
    "\n",
    "total = 0\n",
    "china = 0\n",
    "korea = 0\n",
    "italy = 0\n",
    "japan = 0\n",
    "iran = 0\n",
    "singapore = 0\n",
    "us = 0\n",
    "\n",
    "for tweet in tweepy.Cursor(api.search,q=\"#Coronavirus\",\n",
    "                           since=start_date,\n",
    "                           until=end_date).items():\n",
    "    content = tweet.text.lower()\n",
    "    total = total + 1\n",
    "    if(\"china\" in content or \"chinese\" in content):\n",
    "        china = china + 1\n",
    "    if(\"korea\" in content or \"korean\" in content):\n",
    "        korea = korea + 1\n",
    "    if(\"italy\" in content or \"italian\" in content):\n",
    "        italy = italy + 1\n",
    "    if(\"japan\" in content or \"japanese\" in content):\n",
    "        japan = japan + 1\n",
    "    if(\"iran\" in content or \"iranian\" in content):\n",
    "        iran = iran + 1\n",
    "    if(\"singapore\" in content or \"signaporean\" in content):\n",
    "        signapore = singapore + 1\n",
    "    if(\"us\" in content or \"usa\" in content or \"america\" in content or \"american\" in content):\n",
    "        us = us + 1\n",
    "\n",
    "print(total)\n",
    "print(china)\n",
    "print(korea)\n",
    "print(italy)\n",
    "print(japan)\n",
    "print(iran)\n",
    "print(singapore)\n",
    "print(us)"
   ]
  },
  {
   "cell_type": "markdown",
   "metadata": {},
   "source": [
    "### 02/19"
   ]
  },
  {
   "cell_type": "code",
   "execution_count": 12,
   "metadata": {},
   "outputs": [
    {
     "name": "stdout",
     "output_type": "stream",
     "text": [
      "0\n",
      "0\n",
      "0\n",
      "0\n",
      "0\n",
      "0\n",
      "0\n",
      "0\n"
     ]
    }
   ],
   "source": [
    "start_date = datetime.datetime(2020, 2, 19, 00, 00, 00)\n",
    "end_date = datetime.datetime(2020, 2, 20, 00, 00, 00)\n",
    "\n",
    "total = 0\n",
    "china = 0\n",
    "korea = 0\n",
    "italy = 0\n",
    "japan = 0\n",
    "iran = 0\n",
    "singapore = 0\n",
    "us = 0\n",
    "\n",
    "for tweet in tweepy.Cursor(api.search,q=\"#Coronavirus\",\n",
    "                           since=start_date,\n",
    "                           until=end_date).items():\n",
    "    content = tweet.text.lower()\n",
    "    total = total + 1\n",
    "    if(\"china\" in content or \"chinese\" in content):\n",
    "        china = china + 1\n",
    "    if(\"korea\" in content or \"korean\" in content):\n",
    "        korea = korea + 1\n",
    "    if(\"italy\" in content or \"italian\" in content):\n",
    "        italy = italy + 1\n",
    "    if(\"japan\" in content or \"japanese\" in content):\n",
    "        japan = japan + 1\n",
    "    if(\"iran\" in content or \"iranian\" in content):\n",
    "        iran = iran + 1\n",
    "    if(\"singapore\" in content or \"signaporean\" in content):\n",
    "        signapore = singapore + 1\n",
    "    if(\"us\" in content or \"usa\" in content or \"america\" in content or \"american\" in content):\n",
    "        us = us + 1\n",
    "\n",
    "print(total)\n",
    "print(china)\n",
    "print(korea)\n",
    "print(italy)\n",
    "print(japan)\n",
    "print(iran)\n",
    "print(singapore)\n",
    "print(us)"
   ]
  },
  {
   "cell_type": "markdown",
   "metadata": {},
   "source": [
    "### 02/20"
   ]
  },
  {
   "cell_type": "code",
   "execution_count": 13,
   "metadata": {},
   "outputs": [
    {
     "name": "stdout",
     "output_type": "stream",
     "text": [
      "0\n",
      "0\n",
      "0\n",
      "0\n",
      "0\n",
      "0\n",
      "0\n",
      "0\n"
     ]
    }
   ],
   "source": [
    "start_date = datetime.datetime(2020, 2, 20, 00, 00, 00)\n",
    "end_date = datetime.datetime(2020, 2, 21, 00, 00, 00)\n",
    "\n",
    "total = 0\n",
    "china = 0\n",
    "korea = 0\n",
    "italy = 0\n",
    "japan = 0\n",
    "iran = 0\n",
    "singapore = 0\n",
    "us = 0\n",
    "\n",
    "for tweet in tweepy.Cursor(api.search,q=\"#Coronavirus\",\n",
    "                           since=start_date,\n",
    "                           until=end_date).items():\n",
    "    content = tweet.text.lower()\n",
    "    total = total + 1\n",
    "    if(\"china\" in content or \"chinese\" in content):\n",
    "        china = china + 1\n",
    "    if(\"korea\" in content or \"korean\" in content):\n",
    "        korea = korea + 1\n",
    "    if(\"italy\" in content or \"italian\" in content):\n",
    "        italy = italy + 1\n",
    "    if(\"japan\" in content or \"japanese\" in content):\n",
    "        japan = japan + 1\n",
    "    if(\"iran\" in content or \"iranian\" in content):\n",
    "        iran = iran + 1\n",
    "    if(\"singapore\" in content or \"signaporean\" in content):\n",
    "        signapore = singapore + 1\n",
    "    if(\"us\" in content or \"usa\" in content or \"america\" in content or \"american\" in content):\n",
    "        us = us + 1\n",
    "\n",
    "print(total)\n",
    "print(china)\n",
    "print(korea)\n",
    "print(italy)\n",
    "print(japan)\n",
    "print(iran)\n",
    "print(singapore)\n",
    "print(us)"
   ]
  },
  {
   "cell_type": "markdown",
   "metadata": {},
   "source": [
    "### 02/21"
   ]
  },
  {
   "cell_type": "code",
   "execution_count": 14,
   "metadata": {},
   "outputs": [
    {
     "name": "stdout",
     "output_type": "stream",
     "text": [
      "0\n",
      "0\n",
      "0\n",
      "0\n",
      "0\n",
      "0\n",
      "0\n",
      "0\n"
     ]
    }
   ],
   "source": [
    "start_date = datetime.datetime(2020, 2, 21, 00, 00, 00)\n",
    "end_date = datetime.datetime(2020, 2, 22, 00, 00, 00)\n",
    "\n",
    "total = 0\n",
    "china = 0\n",
    "korea = 0\n",
    "italy = 0\n",
    "japan = 0\n",
    "iran = 0\n",
    "singapore = 0\n",
    "us = 0\n",
    "\n",
    "for tweet in tweepy.Cursor(api.search,q=\"#Coronavirus\",\n",
    "                           since=start_date,\n",
    "                           until=end_date).items():\n",
    "    content = tweet.text.lower()\n",
    "    total = total + 1\n",
    "    if(\"china\" in content or \"chinese\" in content):\n",
    "        china = china + 1\n",
    "    if(\"korea\" in content or \"korean\" in content):\n",
    "        korea = korea + 1\n",
    "    if(\"italy\" in content or \"italian\" in content):\n",
    "        italy = italy + 1\n",
    "    if(\"japan\" in content or \"japanese\" in content):\n",
    "        japan = japan + 1\n",
    "    if(\"iran\" in content or \"iranian\" in content):\n",
    "        iran = iran + 1\n",
    "    if(\"singapore\" in content or \"signaporean\" in content):\n",
    "        signapore = singapore + 1\n",
    "    if(\"us\" in content or \"usa\" in content or \"america\" in content or \"american\" in content):\n",
    "        us = us + 1\n",
    "\n",
    "print(total)\n",
    "print(china)\n",
    "print(korea)\n",
    "print(italy)\n",
    "print(japan)\n",
    "print(iran)\n",
    "print(singapore)\n",
    "print(us)"
   ]
  },
  {
   "cell_type": "markdown",
   "metadata": {},
   "source": [
    "### 02/22"
   ]
  },
  {
   "cell_type": "code",
   "execution_count": 15,
   "metadata": {},
   "outputs": [
    {
     "name": "stdout",
     "output_type": "stream",
     "text": [
      "140\n",
      "15\n",
      "0\n",
      "2\n",
      "0\n",
      "0\n",
      "0\n",
      "110\n"
     ]
    }
   ],
   "source": [
    "start_date = datetime.datetime(2020, 2, 22, 00, 00, 00)\n",
    "end_date = datetime.datetime(2020, 2, 23, 00, 00, 00)\n",
    "\n",
    "total = 0\n",
    "china = 0\n",
    "korea = 0\n",
    "italy = 0\n",
    "japan = 0\n",
    "iran = 0\n",
    "singapore = 0\n",
    "us = 0\n",
    "\n",
    "for tweet in tweepy.Cursor(api.search,q=\"#Coronavirus\",\n",
    "                           since=start_date,\n",
    "                           until=end_date).items():\n",
    "    content = tweet.text.lower()\n",
    "    total = total + 1\n",
    "    if(\"china\" in content or \"chinese\" in content):\n",
    "        china = china + 1\n",
    "    if(\"korea\" in content or \"korean\" in content):\n",
    "        korea = korea + 1\n",
    "    if(\"italy\" in content or \"italian\" in content):\n",
    "        italy = italy + 1\n",
    "    if(\"japan\" in content or \"japanese\" in content):\n",
    "        japan = japan + 1\n",
    "    if(\"iran\" in content or \"iranian\" in content):\n",
    "        iran = iran + 1\n",
    "    if(\"singapore\" in content or \"signaporean\" in content):\n",
    "        signapore = singapore + 1\n",
    "    if(\"us\" in content or \"usa\" in content or \"america\" in content or \"american\" in content):\n",
    "        us = us + 1\n",
    "\n",
    "print(total)\n",
    "print(china)\n",
    "print(korea)\n",
    "print(italy)\n",
    "print(japan)\n",
    "print(iran)\n",
    "print(singapore)\n",
    "print(us)"
   ]
  },
  {
   "cell_type": "markdown",
   "metadata": {},
   "source": [
    "### 02/23"
   ]
  },
  {
   "cell_type": "code",
   "execution_count": 16,
   "metadata": {},
   "outputs": [
    {
     "name": "stdout",
     "output_type": "stream",
     "text": [
      "1379\n",
      "27\n",
      "5\n",
      "6\n",
      "7\n",
      "61\n",
      "0\n",
      "680\n"
     ]
    }
   ],
   "source": [
    "start_date = datetime.datetime(2020, 2, 23, 00, 00, 00)\n",
    "end_date = datetime.datetime(2020, 2, 24, 00, 00, 00)\n",
    "\n",
    "total = 0\n",
    "china = 0\n",
    "korea = 0\n",
    "italy = 0\n",
    "japan = 0\n",
    "iran = 0\n",
    "singapore = 0\n",
    "us = 0\n",
    "\n",
    "for tweet in tweepy.Cursor(api.search,q=\"#Coronavirus\",\n",
    "                           since=start_date,\n",
    "                           until=end_date).items():\n",
    "    content = tweet.text.lower()\n",
    "    total = total + 1\n",
    "    if(\"china\" in content or \"chinese\" in content):\n",
    "        china = china + 1\n",
    "    if(\"korea\" in content or \"korean\" in content):\n",
    "        korea = korea + 1\n",
    "    if(\"italy\" in content or \"italian\" in content):\n",
    "        italy = italy + 1\n",
    "    if(\"japan\" in content or \"japanese\" in content):\n",
    "        japan = japan + 1\n",
    "    if(\"iran\" in content or \"iranian\" in content):\n",
    "        iran = iran + 1\n",
    "    if(\"singapore\" in content or \"signaporean\" in content):\n",
    "        signapore = singapore + 1\n",
    "    if(\"us\" in content or \"usa\" in content or \"america\" in content or \"american\" in content):\n",
    "        us = us + 1\n",
    "\n",
    "print(total)\n",
    "print(china)\n",
    "print(korea)\n",
    "print(italy)\n",
    "print(japan)\n",
    "print(iran)\n",
    "print(singapore)\n",
    "print(us)"
   ]
  },
  {
   "cell_type": "markdown",
   "metadata": {},
   "source": [
    "### 02/24"
   ]
  },
  {
   "cell_type": "code",
   "execution_count": 17,
   "metadata": {},
   "outputs": [
    {
     "name": "stdout",
     "output_type": "stream",
     "text": [
      "1277\n",
      "71\n",
      "31\n",
      "17\n",
      "6\n",
      "8\n",
      "0\n",
      "1073\n"
     ]
    }
   ],
   "source": [
    "start_date = datetime.datetime(2020, 2, 24, 00, 00, 00)\n",
    "end_date = datetime.datetime(2020, 2, 25, 00, 00, 00)\n",
    "\n",
    "total = 0\n",
    "china = 0\n",
    "korea = 0\n",
    "italy = 0\n",
    "japan = 0\n",
    "iran = 0\n",
    "singapore = 0\n",
    "us = 0\n",
    "\n",
    "for tweet in tweepy.Cursor(api.search,q=\"#Coronavirus\",\n",
    "                           since=start_date,\n",
    "                           until=end_date).items():\n",
    "    content = tweet.text.lower()\n",
    "    total = total + 1\n",
    "    if(\"china\" in content or \"chinese\" in content):\n",
    "        china = china + 1\n",
    "    if(\"korea\" in content or \"korean\" in content):\n",
    "        korea = korea + 1\n",
    "    if(\"italy\" in content or \"italian\" in content):\n",
    "        italy = italy + 1\n",
    "    if(\"japan\" in content or \"japanese\" in content):\n",
    "        japan = japan + 1\n",
    "    if(\"iran\" in content or \"iranian\" in content):\n",
    "        iran = iran + 1\n",
    "    if(\"singapore\" in content or \"signaporean\" in content):\n",
    "        signapore = singapore + 1\n",
    "    if(\"us\" in content or \"usa\" in content or \"america\" in content or \"american\" in content):\n",
    "        us = us + 1\n",
    "\n",
    "print(total)\n",
    "print(china)\n",
    "print(korea)\n",
    "print(italy)\n",
    "print(japan)\n",
    "print(iran)\n",
    "print(singapore)\n",
    "print(us)"
   ]
  },
  {
   "cell_type": "markdown",
   "metadata": {},
   "source": [
    "### 02/25"
   ]
  },
  {
   "cell_type": "code",
   "execution_count": 18,
   "metadata": {},
   "outputs": [
    {
     "name": "stdout",
     "output_type": "stream",
     "text": [
      "1173\n",
      "55\n",
      "18\n",
      "15\n",
      "4\n",
      "18\n",
      "0\n",
      "963\n"
     ]
    }
   ],
   "source": [
    "start_date = datetime.datetime(2020, 2, 25, 00, 00, 00)\n",
    "end_date = datetime.datetime(2020, 2, 26, 00, 00, 00)\n",
    "\n",
    "total = 0\n",
    "china = 0\n",
    "korea = 0\n",
    "italy = 0\n",
    "japan = 0\n",
    "iran = 0\n",
    "singapore = 0\n",
    "us = 0\n",
    "\n",
    "for tweet in tweepy.Cursor(api.search,q=\"#Coronavirus\",\n",
    "                           since=start_date,\n",
    "                           until=end_date).items():\n",
    "    content = tweet.text.lower()\n",
    "    total = total + 1\n",
    "    if(\"china\" in content or \"chinese\" in content):\n",
    "        china = china + 1\n",
    "    if(\"korea\" in content or \"korean\" in content):\n",
    "        korea = korea + 1\n",
    "    if(\"italy\" in content or \"italian\" in content):\n",
    "        italy = italy + 1\n",
    "    if(\"japan\" in content or \"japanese\" in content):\n",
    "        japan = japan + 1\n",
    "    if(\"iran\" in content or \"iranian\" in content):\n",
    "        iran = iran + 1\n",
    "    if(\"singapore\" in content or \"signaporean\" in content):\n",
    "        signapore = singapore + 1\n",
    "    if(\"us\" in content or \"usa\" in content or \"america\" in content or \"american\" in content):\n",
    "        us = us + 1\n",
    "\n",
    "print(total)\n",
    "print(china)\n",
    "print(korea)\n",
    "print(italy)\n",
    "print(japan)\n",
    "print(iran)\n",
    "print(singapore)\n",
    "print(us)"
   ]
  },
  {
   "cell_type": "markdown",
   "metadata": {},
   "source": [
    "### 02/26 "
   ]
  },
  {
   "cell_type": "code",
   "execution_count": 19,
   "metadata": {},
   "outputs": [
    {
     "name": "stdout",
     "output_type": "stream",
     "text": [
      "1257\n",
      "36\n",
      "41\n",
      "43\n",
      "0\n",
      "42\n",
      "0\n",
      "1010\n"
     ]
    }
   ],
   "source": [
    "start_date = datetime.datetime(2020, 2, 26, 00, 00, 00)\n",
    "end_date = datetime.datetime(2020, 2, 27, 00, 00, 00)\n",
    "\n",
    "total = 0\n",
    "china = 0\n",
    "korea = 0\n",
    "italy = 0\n",
    "japan = 0\n",
    "iran = 0\n",
    "singapore = 0\n",
    "us = 0\n",
    "\n",
    "for tweet in tweepy.Cursor(api.search,q=\"#Coronavirus\",\n",
    "                           since=start_date,\n",
    "                           until=end_date).items():\n",
    "    content = tweet.text.lower()\n",
    "    total = total + 1\n",
    "    if(\"china\" in content or \"chinese\" in content):\n",
    "        china = china + 1\n",
    "    if(\"korea\" in content or \"korean\" in content):\n",
    "        korea = korea + 1\n",
    "    if(\"italy\" in content or \"italian\" in content):\n",
    "        italy = italy + 1\n",
    "    if(\"japan\" in content or \"japanese\" in content):\n",
    "        japan = japan + 1\n",
    "    if(\"iran\" in content or \"iranian\" in content):\n",
    "        iran = iran + 1\n",
    "    if(\"singapore\" in content or \"signaporean\" in content):\n",
    "        signapore = singapore + 1\n",
    "    if(\"us\" in content or \"usa\" in content or \"america\" in content or \"american\" in content):\n",
    "        us = us + 1\n",
    "\n",
    "print(total)\n",
    "print(china)\n",
    "print(korea)\n",
    "print(italy)\n",
    "print(japan)\n",
    "print(iran)\n",
    "print(singapore)\n",
    "print(us)"
   ]
  },
  {
   "cell_type": "markdown",
   "metadata": {},
   "source": [
    "### 02/27"
   ]
  },
  {
   "cell_type": "code",
   "execution_count": 20,
   "metadata": {},
   "outputs": [
    {
     "name": "stdout",
     "output_type": "stream",
     "text": [
      "1270\n",
      "63\n",
      "36\n",
      "20\n",
      "13\n",
      "32\n",
      "0\n",
      "936\n"
     ]
    }
   ],
   "source": [
    "start_date = datetime.datetime(2020, 2, 27, 00, 00, 00)\n",
    "end_date = datetime.datetime(2020, 2, 28, 00, 00, 00)\n",
    "\n",
    "total = 0\n",
    "china = 0\n",
    "korea = 0\n",
    "italy = 0\n",
    "japan = 0\n",
    "iran = 0\n",
    "singapore = 0\n",
    "us = 0\n",
    "\n",
    "for tweet in tweepy.Cursor(api.search,q=\"#Coronavirus\",\n",
    "                           since=start_date,\n",
    "                           until=end_date).items():\n",
    "    content = tweet.text.lower()\n",
    "    total = total + 1\n",
    "    if(\"china\" in content or \"chinese\" in content):\n",
    "        china = china + 1\n",
    "    if(\"korea\" in content or \"korean\" in content):\n",
    "        korea = korea + 1\n",
    "    if(\"italy\" in content or \"italian\" in content):\n",
    "        italy = italy + 1\n",
    "    if(\"japan\" in content or \"japanese\" in content):\n",
    "        japan = japan + 1\n",
    "    if(\"iran\" in content or \"iranian\" in content):\n",
    "        iran = iran + 1\n",
    "    if(\"singapore\" in content or \"signaporean\" in content):\n",
    "        signapore = singapore + 1\n",
    "    if(\"us\" in content or \"usa\" in content or \"america\" in content or \"american\" in content):\n",
    "        us = us + 1\n",
    "\n",
    "print(total)\n",
    "print(china)\n",
    "print(korea)\n",
    "print(italy)\n",
    "print(japan)\n",
    "print(iran)\n",
    "print(singapore)\n",
    "print(us)"
   ]
  },
  {
   "cell_type": "markdown",
   "metadata": {},
   "source": [
    "### 02/28"
   ]
  },
  {
   "cell_type": "code",
   "execution_count": 21,
   "metadata": {},
   "outputs": [
    {
     "name": "stdout",
     "output_type": "stream",
     "text": [
      "1228\n",
      "17\n",
      "29\n",
      "29\n",
      "5\n",
      "22\n",
      "0\n",
      "840\n"
     ]
    }
   ],
   "source": [
    "start_date = datetime.datetime(2020, 2, 28, 00, 00, 00)\n",
    "end_date = datetime.datetime(2020, 2, 29, 00, 00, 00)\n",
    "\n",
    "total = 0\n",
    "china = 0\n",
    "korea = 0\n",
    "italy = 0\n",
    "japan = 0\n",
    "iran = 0\n",
    "singapore = 0\n",
    "us = 0\n",
    "\n",
    "for tweet in tweepy.Cursor(api.search,q=\"#Coronavirus\",\n",
    "                           since=start_date,\n",
    "                           until=end_date).items():\n",
    "    content = tweet.text.lower()\n",
    "    total = total + 1\n",
    "    if(\"china\" in content or \"chinese\" in content):\n",
    "        china = china + 1\n",
    "    if(\"korea\" in content or \"korean\" in content):\n",
    "        korea = korea + 1\n",
    "    if(\"italy\" in content or \"italian\" in content):\n",
    "        italy = italy + 1\n",
    "    if(\"japan\" in content or \"japanese\" in content):\n",
    "        japan = japan + 1\n",
    "    if(\"iran\" in content or \"iranian\" in content):\n",
    "        iran = iran + 1\n",
    "    if(\"singapore\" in content or \"signaporean\" in content):\n",
    "        signapore = singapore + 1\n",
    "    if(\"us\" in content or \"usa\" in content or \"america\" in content or \"american\" in content):\n",
    "        us = us + 1\n",
    "\n",
    "print(total)\n",
    "print(china)\n",
    "print(korea)\n",
    "print(italy)\n",
    "print(japan)\n",
    "print(iran)\n",
    "print(singapore)\n",
    "print(us)"
   ]
  },
  {
   "cell_type": "markdown",
   "metadata": {},
   "source": [
    "### 02/29"
   ]
  },
  {
   "cell_type": "code",
   "execution_count": 23,
   "metadata": {},
   "outputs": [
    {
     "name": "stdout",
     "output_type": "stream",
     "text": [
      "1419\n",
      "295\n",
      "22\n",
      "99\n",
      "7\n",
      "8\n",
      "0\n",
      "1039\n"
     ]
    }
   ],
   "source": [
    "start_date = datetime.datetime(2020, 2, 29, 00, 00, 00)\n",
    "end_date = datetime.datetime(2020, 3, 1, 00, 00, 00)\n",
    "\n",
    "total = 0\n",
    "china = 0\n",
    "korea = 0\n",
    "italy = 0\n",
    "japan = 0\n",
    "iran = 0\n",
    "singapore = 0\n",
    "us = 0\n",
    "\n",
    "for tweet in tweepy.Cursor(api.search,q=\"#Coronavirus\",\n",
    "                           since=start_date,\n",
    "                           until=end_date).items():\n",
    "    content = tweet.text.lower()\n",
    "    total = total + 1\n",
    "    if(\"china\" in content or \"chinese\" in content):\n",
    "        china = china + 1\n",
    "    if(\"korea\" in content or \"korean\" in content):\n",
    "        korea = korea + 1\n",
    "    if(\"italy\" in content or \"italian\" in content):\n",
    "        italy = italy + 1\n",
    "    if(\"japan\" in content or \"japanese\" in content):\n",
    "        japan = japan + 1\n",
    "    if(\"iran\" in content or \"iranian\" in content):\n",
    "        iran = iran + 1\n",
    "    if(\"singapore\" in content or \"signaporean\" in content):\n",
    "        signapore = singapore + 1\n",
    "    if(\"us\" in content or \"usa\" in content or \"america\" in content or \"american\" in content):\n",
    "        us = us + 1\n",
    "\n",
    "print(total)\n",
    "print(china)\n",
    "print(korea)\n",
    "print(italy)\n",
    "print(japan)\n",
    "print(iran)\n",
    "print(singapore)\n",
    "print(us)"
   ]
  },
  {
   "cell_type": "markdown",
   "metadata": {},
   "source": [
    "### 03/01"
   ]
  },
  {
   "cell_type": "code",
   "execution_count": 24,
   "metadata": {},
   "outputs": [
    {
     "name": "stdout",
     "output_type": "stream",
     "text": [
      "1250\n",
      "46\n",
      "9\n",
      "47\n",
      "2\n",
      "5\n",
      "0\n",
      "699\n"
     ]
    }
   ],
   "source": [
    "start_date = datetime.datetime(2020, 3, 1, 00, 00, 00)\n",
    "end_date = datetime.datetime(2020, 3, 2, 00, 00, 00)\n",
    "\n",
    "total = 0\n",
    "china = 0\n",
    "korea = 0\n",
    "italy = 0\n",
    "japan = 0\n",
    "iran = 0\n",
    "singapore = 0\n",
    "us = 0\n",
    "\n",
    "for tweet in tweepy.Cursor(api.search,q=\"#Coronavirus\",\n",
    "                           since=start_date,\n",
    "                           until=end_date).items():\n",
    "    content = tweet.text.lower()\n",
    "    total = total + 1\n",
    "    if(\"china\" in content or \"chinese\" in content):\n",
    "        china = china + 1\n",
    "    if(\"korea\" in content or \"korean\" in content):\n",
    "        korea = korea + 1\n",
    "    if(\"italy\" in content or \"italian\" in content):\n",
    "        italy = italy + 1\n",
    "    if(\"japan\" in content or \"japanese\" in content):\n",
    "        japan = japan + 1\n",
    "    if(\"iran\" in content or \"iranian\" in content):\n",
    "        iran = iran + 1\n",
    "    if(\"singapore\" in content or \"signaporean\" in content):\n",
    "        signapore = singapore + 1\n",
    "    if(\"us\" in content or \"usa\" in content or \"america\" in content or \"american\" in content):\n",
    "        us = us + 1\n",
    "\n",
    "print(total)\n",
    "print(china)\n",
    "print(korea)\n",
    "print(italy)\n",
    "print(japan)\n",
    "print(iran)\n",
    "print(singapore)\n",
    "print(us)"
   ]
  },
  {
   "cell_type": "markdown",
   "metadata": {},
   "source": [
    "### 03/02"
   ]
  },
  {
   "cell_type": "code",
   "execution_count": 6,
   "metadata": {},
   "outputs": [
    {
     "name": "stdout",
     "output_type": "stream",
     "text": [
      "1807\n",
      "11\n",
      "17\n",
      "69\n",
      "3\n",
      "39\n",
      "0\n",
      "1414\n"
     ]
    }
   ],
   "source": [
    "start_date = datetime.datetime(2020, 3, 2, 00, 00, 00)\n",
    "end_date = datetime.datetime(2020, 3, 3, 00, 00, 00)\n",
    "\n",
    "total = 0\n",
    "china = 0\n",
    "korea = 0\n",
    "italy = 0\n",
    "japan = 0\n",
    "iran = 0\n",
    "singapore = 0\n",
    "us = 0\n",
    "\n",
    "for tweet in tweepy.Cursor(api.search,q=\"#Coronavirus\",\n",
    "                           since=start_date,\n",
    "                           until=end_date).items():\n",
    "    content = tweet.text.lower()\n",
    "    total = total + 1\n",
    "    if(\"china\" in content or \"chinese\" in content):\n",
    "        china = china + 1\n",
    "    if(\"korea\" in content or \"korean\" in content):\n",
    "        korea = korea + 1\n",
    "    if(\"italy\" in content or \"italian\" in content):\n",
    "        italy = italy + 1\n",
    "    if(\"japan\" in content or \"japanese\" in content):\n",
    "        japan = japan + 1\n",
    "    if(\"iran\" in content or \"iranian\" in content):\n",
    "        iran = iran + 1\n",
    "    if(\"singapore\" in content or \"signaporean\" in content):\n",
    "        signapore = singapore + 1\n",
    "    if(\"us\" in content or \"usa\" in content or \"america\" in content or \"american\" in content):\n",
    "        us = us + 1\n",
    "\n",
    "print(total)\n",
    "print(china)\n",
    "print(korea)\n",
    "print(italy)\n",
    "print(japan)\n",
    "print(iran)\n",
    "print(singapore)\n",
    "print(us)"
   ]
  },
  {
   "cell_type": "markdown",
   "metadata": {},
   "source": [
    "# Visualization"
   ]
  },
  {
   "cell_type": "markdown",
   "metadata": {},
   "source": [
    "### Weekly Compare"
   ]
  },
  {
   "cell_type": "code",
   "execution_count": 8,
   "metadata": {},
   "outputs": [],
   "source": [
    "import matplotlib.pyplot as plt; plt.rcdefaults()\n",
    "import numpy as np\n",
    "import matplotlib.pyplot as plt\n",
    "import pandas as pd"
   ]
  },
  {
   "cell_type": "code",
   "execution_count": 9,
   "metadata": {},
   "outputs": [
    {
     "data": {
      "image/png": "[encoded data removed]",
      "text/plain": [
       "<Figure size 640x480 with 1 Axes>"
      ]
     },
     "metadata": {},
     "output_type": "display_data"
    }
   ],
   "source": [
    "objects = ('1/14-1/20', '1/21-1/27', '1/28-2/3', '2/4-2/10', '2/11-2/17', '2/18-2/25')\n",
    "y_pos = np.arange(len(objects))\n",
    "performance = [0,0,0,0,0,1514]\n",
    "\n",
    "plt.bar(y_pos, performance, align='center', alpha=0.5)\n",
    "plt.xticks(y_pos, objects, rotation=60)\n",
    "plt.ylabel('The Number of Tweets in a Week')\n",
    "plt.title('Week')\n",
    "\n",
    "plt.show()"
   ]
  },
  {
   "cell_type": "markdown",
   "metadata": {},
   "source": [
    "Day 1: 02/21"
   ]
  },
  {
   "cell_type": "code",
   "execution_count": 10,
   "metadata": {},
   "outputs": [
    {
     "data": {
      "text/plain": [
       "Text(0, 0.5, 'The Number of Tweets in a Day')"
      ]
     },
     "execution_count": 10,
     "metadata": {},
     "output_type": "execute_result"
    },
    {
     "data": {
      "image/png": "[encoded data removed]",
      "text/plain": [
       "<Figure size 640x480 with 1 Axes>"
      ]
     },
     "metadata": {},
     "output_type": "display_data"
    }
   ],
   "source": [
    "# Make a data frame\n",
    "df=pd.DataFrame({'x': range(1,12),\n",
    "                'Total': [0, 140, 1379, 1277, 1173, 1257, 1270, 1228, 1419, 1250, 1807], \n",
    "                'China': [0, 15, 27, 71, 55, 36, 63, 17, 295, 46, 11], \n",
    "                'Korea': [0, 0, 5, 31, 18, 41, 36, 29, 22, 9, 17], \n",
    "                'Italy': [0, 2, 6, 17, 15, 43, 20, 29, 99, 47, 69],\n",
    "                'Japan': [0, 0, 7, 6, 4, 0, 13, 5, 7, 2, 3],\n",
    "                'Iran': [0, 0, 61, 8, 18, 42, 32, 22, 8, 5, 39], \n",
    "                'Singapore': [0, 0, 0, 0, 0, 0, 0, 0, 0, 0, 0], \n",
    "                'US': [0, 110, 680, 1073, 963, 1010, 936, 840, 1039, 699, 1414]\n",
    "                 })\n",
    " \n",
    "# style\n",
    "plt.style.use('seaborn-darkgrid')\n",
    " \n",
    "# create a color palette\n",
    "palette = plt.get_cmap('Set1')\n",
    " \n",
    "# multiple line plot\n",
    "num = 0\n",
    "for column in df.drop('x', axis=1):\n",
    "    num = num + 1\n",
    "    plt.plot(df['x'], df[column], marker='', color=palette(num), linewidth=1, alpha=0.9, label=column)\n",
    " \n",
    "# Add legend\n",
    "plt.legend(loc=2, ncol=2)\n",
    " \n",
    "# Add titles\n",
    "plt.title(\"Trend Analysis of Keyword Countries\", loc='center', fontsize=12, fontweight=0, color='orange')\n",
    "plt.xlabel(\"Time\")\n",
    "plt.ylabel(\"The Number of Tweets in a Day\")"
   ]
  },
  {
   "cell_type": "code",
   "execution_count": 50,
   "metadata": {},
   "outputs": [
    {
     "data": {
      "text/plain": [
       "Text(0, 0.5, 'The Number of Tweets in a Day')"
      ]
     },
     "execution_count": 50,
     "metadata": {},
     "output_type": "execute_result"
    },
    {
     "data": {
      "image/png": "[encoded data removed]",
      "text/plain": [
       "<Figure size 640x480 with 1 Axes>"
      ]
     },
     "metadata": {},
     "output_type": "display_data"
    }
   ],
   "source": [
    "# Make a data frame\n",
    "df=pd.DataFrame({'x': range(1,11),\n",
    "                'China': [0, 15, 27, 71, 55, 36, 63, 17, 295, 46], \n",
    "                'Korea': [0, 0, 5, 31, 18, 41, 36, 29, 22, 9], \n",
    "                'Italy': [0, 2, 6, 17, 15, 43, 20, 29, 99, 47],\n",
    "                'Japan': [0, 0, 7, 6, 4, 0, 13, 5, 7, 2],\n",
    "                'Iran': [0, 0, 61, 8, 18, 42, 32, 22, 8, 5], \n",
    "                'Singapore': [0, 0, 0, 0, 0, 0, 0, 0, 0, 0], \n",
    "                 })\n",
    " \n",
    "# style\n",
    "plt.style.use('seaborn-darkgrid')\n",
    " \n",
    "# create a color palette\n",
    "palette = plt.get_cmap('Set1')\n",
    " \n",
    "# multiple line plot\n",
    "num = 0\n",
    "for column in df.drop('x', axis=1):\n",
    "    num = num + 1\n",
    "    plt.plot(df['x'], df[column], marker='', color=palette(num), linewidth=1, alpha=0.9, label=column)\n",
    " \n",
    "# Add legend\n",
    "plt.legend(loc=2, ncol=2)\n",
    " \n",
    "# Add titles\n",
    "plt.title(\"Trend Analysis of Keyword Countries\", loc='center', fontsize=12, fontweight=0, color='orange')\n",
    "plt.xlabel(\"Time\")\n",
    "plt.ylabel(\"The Number of Tweets in a Day\")"
   ]
  },
  {
   "cell_type": "code",
   "execution_count": 51,
   "metadata": {},
   "outputs": [
    {
     "data": {
      "text/plain": [
       "Text(0, 0.5, 'The Number of Tweets in a Day')"
      ]
     },
     "execution_count": 51,
     "metadata": {},
     "output_type": "execute_result"
    },
    {
     "data": {
      "image/png": "[encoded data removed]",
      "text/plain": [
       "<Figure size 640x480 with 1 Axes>"
      ]
     },
     "metadata": {},
     "output_type": "display_data"
    }
   ],
   "source": [
    "# Make a data frame\n",
    "df=pd.DataFrame({'x': range(1,11),\n",
    "                'Korea': [0, 0, 5, 31, 18, 41, 36, 29, 22, 9], \n",
    "                'Italy': [0, 2, 6, 17, 15, 43, 20, 29, 99, 47],\n",
    "                'Japan': [0, 0, 7, 6, 4, 0, 13, 5, 7, 2],\n",
    "                'Iran': [0, 0, 61, 8, 18, 42, 32, 22, 8, 5], \n",
    "                'Singapore': [0, 0, 0, 0, 0, 0, 0, 0, 0, 0], \n",
    "                 })\n",
    " \n",
    "# style\n",
    "plt.style.use('seaborn-darkgrid')\n",
    " \n",
    "# create a color palette\n",
    "palette = plt.get_cmap('Set1')\n",
    " \n",
    "# multiple line plot\n",
    "num = 0\n",
    "for column in df.drop('x', axis=1):\n",
    "    num = num + 1\n",
    "    plt.plot(df['x'], df[column], marker='', color=palette(num), linewidth=1, alpha=0.9, label=column)\n",
    " \n",
    "# Add legend\n",
    "plt.legend(loc=2, ncol=2)\n",
    " \n",
    "# Add titles\n",
    "plt.title(\"Trend Analysis of Keyword Countries\", loc='center', fontsize=12, fontweight=0, color='orange')\n",
    "plt.xlabel(\"Time\")\n",
    "plt.ylabel(\"The Number of Tweets in a Day\")"
   ]
  },
  {
   "cell_type": "markdown",
   "metadata": {},
   "source": [
    "Total number of tweets increases extremely on day 1, day 3, and day 9."
   ]
  },
  {
   "cell_type": "raw",
   "metadata": {},
   "source": [
    "The total number of tweets about Coronavirus increases severely on day 1, day 3, and day 8.\n",
    "Day 1: might be related to China.\n",
    "Day 3: might be related to Iran.\n",
    "Day 8: might be related to Italy."
   ]
  },
  {
   "cell_type": "code",
   "execution_count": null,
   "metadata": {},
   "outputs": [],
   "source": []
  }
 ],
 "metadata": {
  "kernelspec": {
   "display_name": "Python 3",
   "language": "python",
   "name": "python3"
  },
  "language_info": {
   "codemirror_mode": {
    "name": "ipython",
    "version": 3
   },
   "file_extension": ".py",
   "mimetype": "text/x-python",
   "name": "python",
   "nbconvert_exporter": "python",
   "pygments_lexer": "ipython3",
   "version": "3.8.0"
  }
 },
 "nbformat": 4,
 "nbformat_minor": 4
}
