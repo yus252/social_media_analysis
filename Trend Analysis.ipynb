{
 "cells": [
  {
   "cell_type": "code",
   "execution_count": 1,
   "metadata": {},
   "outputs": [
    {
     "name": "stdout",
     "output_type": "stream",
     "text": [
      "Requirement already satisfied: tweepy in /Library/Frameworks/Python.framework/Versions/3.8/lib/python3.8/site-packages (3.8.0)\n",
      "Requirement already satisfied: requests-oauthlib>=0.7.0 in /Library/Frameworks/Python.framework/Versions/3.8/lib/python3.8/site-packages (from tweepy) (1.3.0)\n",
      "Requirement already satisfied: PySocks>=1.5.7 in /Library/Frameworks/Python.framework/Versions/3.8/lib/python3.8/site-packages (from tweepy) (1.7.1)\n",
      "Requirement already satisfied: six>=1.10.0 in /Library/Frameworks/Python.framework/Versions/3.8/lib/python3.8/site-packages (from tweepy) (1.12.0)\n",
      "Requirement already satisfied: requests>=2.11.1 in /Library/Frameworks/Python.framework/Versions/3.8/lib/python3.8/site-packages (from tweepy) (2.22.0)\n",
      "Requirement already satisfied: oauthlib>=3.0.0 in /Library/Frameworks/Python.framework/Versions/3.8/lib/python3.8/site-packages (from requests-oauthlib>=0.7.0->tweepy) (3.1.0)\n",
      "Requirement already satisfied: idna<2.9,>=2.5 in /Library/Frameworks/Python.framework/Versions/3.8/lib/python3.8/site-packages (from requests>=2.11.1->tweepy) (2.8)\n",
      "Requirement already satisfied: urllib3!=1.25.0,!=1.25.1,<1.26,>=1.21.1 in /Library/Frameworks/Python.framework/Versions/3.8/lib/python3.8/site-packages (from requests>=2.11.1->tweepy) (1.25.6)\n",
      "Requirement already satisfied: chardet<3.1.0,>=3.0.2 in /Library/Frameworks/Python.framework/Versions/3.8/lib/python3.8/site-packages (from requests>=2.11.1->tweepy) (3.0.4)\n",
      "Requirement already satisfied: certifi>=2017.4.17 in /Library/Frameworks/Python.framework/Versions/3.8/lib/python3.8/site-packages (from requests>=2.11.1->tweepy) (2019.9.11)\n",
      "Note: you may need to restart the kernel to use updated packages.\n"
     ]
    }
   ],
   "source": [
    "pip install tweepy"
   ]
  },
  {
   "cell_type": "code",
   "execution_count": 1,
   "metadata": {},
   "outputs": [],
   "source": [
    "import tweepy\n",
    "import csv\n",
    "import datetime"
   ]
  },
  {
   "cell_type": "code",
   "execution_count": 2,
   "metadata": {},
   "outputs": [],
   "source": [
    "####input your credentials here\n",
    "consumer_key = 'EJ2bzIVQw7jSjJ5o0Cix6CzcS'\n",
    "consumer_secret = 'd8aJEkFQLLyteH4mOjuxgtM3cKZNxPdCGivtWOUyaAvpmbPjQQ'\n",
    "access_token = '1234205131807133696-GQVmr3bBV6bsUMDRPnnP1rpMNwBpXF'\n",
    "access_token_secret = 'ynLMCC0V0y9AWJMo7md7YrWmIN63cSsYtomJJcgqrtDuA'\n",
    "\n",
    "auth = tweepy.OAuthHandler(consumer_key, consumer_secret)\n",
    "auth.set_access_token(access_token, access_token_secret)\n",
    "api = tweepy.API(auth,wait_on_rate_limit=True)"
   ]
  },
  {
   "cell_type": "markdown",
   "metadata": {},
   "source": [
    "# Weekly Tweets"
   ]
  },
  {
   "cell_type": "markdown",
   "metadata": {},
   "source": [
    "### 01/14 - 01/20"
   ]
  },
  {
   "cell_type": "code",
   "execution_count": 4,
   "metadata": {},
   "outputs": [
    {
     "name": "stdout",
     "output_type": "stream",
     "text": [
      "0\n",
      "0\n",
      "0\n",
      "0\n",
      "0\n",
      "0\n",
      "0\n",
      "0\n"
     ]
    }
   ],
   "source": [
    "start_date = datetime.datetime(2020, 1, 14, 00, 00, 00)\n",
    "end_date = datetime.datetime(2020, 1, 21, 00, 00, 00)\n",
    "\n",
    "total = 0\n",
    "china = 0\n",
    "korea = 0\n",
    "italy = 0\n",
    "japan = 0\n",
    "iran = 0\n",
    "singapore = 0\n",
    "us = 0\n",
    "\n",
    "for tweet in tweepy.Cursor(api.search,q=\"#Coronavirus\",\n",
    "                           since=start_date,\n",
    "                           until=end_date).items():\n",
    "    content = tweet.text.lower()\n",
    "    total = total + 1\n",
    "    if(\"china\" in content or \"chinese\" in content):\n",
    "        china = china + 1\n",
    "    if(\"korea\" in content or \"korean\" in content):\n",
    "        korea = korea + 1\n",
    "    if(\"italy\" in content or \"italian\" in content):\n",
    "        italy = italy + 1\n",
    "    if(\"japan\" in content or \"japanese\" in content):\n",
    "        japan = japan + 1\n",
    "    if(\"iran\" in content or \"iranian\" in content):\n",
    "        iran = iran + 1\n",
    "    if(\"singapore\" in content or \"signaporean\" in content):\n",
    "        signapore = singapore + 1\n",
    "    if(\"us\" in content or \"usa\" in content or \"america\" in content or \"american\" in content):\n",
    "        us = us + 1\n",
    "\n",
    "print(total)\n",
    "print(china)\n",
    "print(korea)\n",
    "print(italy)\n",
    "print(japan)\n",
    "print(iran)\n",
    "print(singapore)\n",
    "print(us)"
   ]
  },
  {
   "cell_type": "markdown",
   "metadata": {},
   "source": [
    "### 1/21 - 1/27"
   ]
  },
  {
   "cell_type": "code",
   "execution_count": 5,
   "metadata": {},
   "outputs": [
    {
     "name": "stdout",
     "output_type": "stream",
     "text": [
      "0\n",
      "0\n",
      "0\n",
      "0\n",
      "0\n",
      "0\n",
      "0\n",
      "0\n"
     ]
    }
   ],
   "source": [
    "start_date = datetime.datetime(2020, 1, 21, 00, 00, 00)\n",
    "end_date = datetime.datetime(2020, 1, 28, 00, 00, 00)\n",
    "\n",
    "total = 0\n",
    "china = 0\n",
    "korea = 0\n",
    "italy = 0\n",
    "japan = 0\n",
    "iran = 0\n",
    "singapore = 0\n",
    "us = 0\n",
    "\n",
    "for tweet in tweepy.Cursor(api.search,q=\"#Coronavirus\",\n",
    "                           since=start_date,\n",
    "                           until=end_date).items():\n",
    "    content = tweet.text.lower()\n",
    "    total = total + 1\n",
    "    if(\"china\" in content or \"chinese\" in content):\n",
    "        china = china + 1\n",
    "    if(\"korea\" in content or \"korean\" in content):\n",
    "        korea = korea + 1\n",
    "    if(\"italy\" in content or \"italian\" in content):\n",
    "        italy = italy + 1\n",
    "    if(\"japan\" in content or \"japanese\" in content):\n",
    "        japan = japan + 1\n",
    "    if(\"iran\" in content or \"iranian\" in content):\n",
    "        iran = iran + 1\n",
    "    if(\"singapore\" in content or \"signaporean\" in content):\n",
    "        signapore = singapore + 1\n",
    "    if(\"us\" in content or \"usa\" in content or \"america\" in content or \"american\" in content):\n",
    "        us = us + 1\n",
    "\n",
    "print(total)\n",
    "print(china)\n",
    "print(korea)\n",
    "print(italy)\n",
    "print(japan)\n",
    "print(iran)\n",
    "print(singapore)\n",
    "print(us)"
   ]
  },
  {
   "cell_type": "markdown",
   "metadata": {},
   "source": [
    "### 01/28 - 02/03"
   ]
  },
  {
   "cell_type": "code",
   "execution_count": 6,
   "metadata": {},
   "outputs": [
    {
     "name": "stdout",
     "output_type": "stream",
     "text": [
      "0\n",
      "0\n",
      "0\n",
      "0\n",
      "0\n",
      "0\n",
      "0\n",
      "0\n"
     ]
    }
   ],
   "source": [
    "start_date = datetime.datetime(2020, 1, 28, 00, 00, 00)\n",
    "end_date = datetime.datetime(2020, 2, 4, 00, 00, 00)\n",
    "\n",
    "total = 0\n",
    "china = 0\n",
    "korea = 0\n",
    "italy = 0\n",
    "japan = 0\n",
    "iran = 0\n",
    "singapore = 0\n",
    "us = 0\n",
    "\n",
    "for tweet in tweepy.Cursor(api.search,q=\"#Coronavirus\",\n",
    "                           since=start_date,\n",
    "                           until=end_date).items():\n",
    "    content = tweet.text.lower()\n",
    "    total = total + 1\n",
    "    if(\"china\" in content or \"chinese\" in content):\n",
    "        china = china + 1\n",
    "    if(\"korea\" in content or \"korean\" in content):\n",
    "        korea = korea + 1\n",
    "    if(\"italy\" in content or \"italian\" in content):\n",
    "        italy = italy + 1\n",
    "    if(\"japan\" in content or \"japanese\" in content):\n",
    "        japan = japan + 1\n",
    "    if(\"iran\" in content or \"iranian\" in content):\n",
    "        iran = iran + 1\n",
    "    if(\"singapore\" in content or \"signaporean\" in content):\n",
    "        signapore = singapore + 1\n",
    "    if(\"us\" in content or \"usa\" in content or \"america\" in content or \"american\" in content):\n",
    "        us = us + 1\n",
    "\n",
    "print(total)\n",
    "print(china)\n",
    "print(korea)\n",
    "print(italy)\n",
    "print(japan)\n",
    "print(iran)\n",
    "print(singapore)\n",
    "print(us)"
   ]
  },
  {
   "cell_type": "markdown",
   "metadata": {},
   "source": [
    "### 02/04 - 02/10"
   ]
  },
  {
   "cell_type": "code",
   "execution_count": 7,
   "metadata": {},
   "outputs": [
    {
     "name": "stdout",
     "output_type": "stream",
     "text": [
      "0\n",
      "0\n",
      "0\n",
      "0\n",
      "0\n",
      "0\n",
      "0\n",
      "0\n"
     ]
    }
   ],
   "source": [
    "start_date = datetime.datetime(2020, 2, 4, 00, 00, 00)\n",
    "end_date = datetime.datetime(2020, 2, 11, 00, 00, 00)\n",
    "\n",
    "total = 0\n",
    "china = 0\n",
    "korea = 0\n",
    "italy = 0\n",
    "japan = 0\n",
    "iran = 0\n",
    "singapore = 0\n",
    "us = 0\n",
    "\n",
    "for tweet in tweepy.Cursor(api.search,q=\"#Coronavirus\",\n",
    "                           since=start_date,\n",
    "                           until=end_date).items():\n",
    "    content = tweet.text.lower()\n",
    "    total = total + 1\n",
    "    if(\"china\" in content or \"chinese\" in content):\n",
    "        china = china + 1\n",
    "    if(\"korea\" in content or \"korean\" in content):\n",
    "        korea = korea + 1\n",
    "    if(\"italy\" in content or \"italian\" in content):\n",
    "        italy = italy + 1\n",
    "    if(\"japan\" in content or \"japanese\" in content):\n",
    "        japan = japan + 1\n",
    "    if(\"iran\" in content or \"iranian\" in content):\n",
    "        iran = iran + 1\n",
    "    if(\"singapore\" in content or \"signaporean\" in content):\n",
    "        signapore = singapore + 1\n",
    "    if(\"us\" in content or \"usa\" in content or \"america\" in content or \"american\" in content):\n",
    "        us = us + 1\n",
    "\n",
    "print(total)\n",
    "print(china)\n",
    "print(korea)\n",
    "print(italy)\n",
    "print(japan)\n",
    "print(iran)\n",
    "print(singapore)\n",
    "print(us)"
   ]
  },
  {
   "cell_type": "markdown",
   "metadata": {},
   "source": [
    "### 02/11 - 02/17"
   ]
  },
  {
   "cell_type": "code",
   "execution_count": 8,
   "metadata": {},
   "outputs": [
    {
     "name": "stdout",
     "output_type": "stream",
     "text": [
      "0\n",
      "0\n",
      "0\n",
      "0\n",
      "0\n",
      "0\n",
      "0\n",
      "0\n"
     ]
    }
   ],
   "source": [
    "start_date = datetime.datetime(2020, 2, 11, 00, 00, 00)\n",
    "end_date = datetime.datetime(2020, 2, 17, 00, 00, 00)\n",
    "\n",
    "total = 0\n",
    "china = 0\n",
    "korea = 0\n",
    "italy = 0\n",
    "japan = 0\n",
    "iran = 0\n",
    "singapore = 0\n",
    "us = 0\n",
    "\n",
    "for tweet in tweepy.Cursor(api.search,q=\"#Coronavirus\",\n",
    "                           since=start_date,\n",
    "                           until=end_date).items():\n",
    "    content = tweet.text.lower()\n",
    "    total = total + 1\n",
    "    if(\"china\" in content or \"chinese\" in content):\n",
    "        china = china + 1\n",
    "    if(\"korea\" in content or \"korean\" in content):\n",
    "        korea = korea + 1\n",
    "    if(\"italy\" in content or \"italian\" in content):\n",
    "        italy = italy + 1\n",
    "    if(\"japan\" in content or \"japanese\" in content):\n",
    "        japan = japan + 1\n",
    "    if(\"iran\" in content or \"iranian\" in content):\n",
    "        iran = iran + 1\n",
    "    if(\"singapore\" in content or \"signaporean\" in content):\n",
    "        signapore = singapore + 1\n",
    "    if(\"us\" in content or \"usa\" in content or \"america\" in content or \"american\" in content):\n",
    "        us = us + 1\n",
    "\n",
    "print(total)\n",
    "print(china)\n",
    "print(korea)\n",
    "print(italy)\n",
    "print(japan)\n",
    "print(iran)\n",
    "print(singapore)\n",
    "print(us)"
   ]
  },
  {
   "cell_type": "markdown",
   "metadata": {},
   "source": [
    "### 02/18 - 02/24"
   ]
  },
  {
   "cell_type": "code",
   "execution_count": 4,
   "metadata": {},
   "outputs": [
    {
     "name": "stdout",
     "output_type": "stream",
     "text": [
      "0\n",
      "0\n",
      "0\n",
      "0\n",
      "0\n",
      "0\n",
      "0\n",
      "0\n"
     ]
    }
   ],
   "source": [
    "start_date = datetime.datetime(2020, 2, 18, 00, 00, 00)\n",
    "end_date = datetime.datetime(2020, 2, 24, 00, 00, 00)\n",
    "\n",
    "total = 0\n",
    "china = 0\n",
    "korea = 0\n",
    "italy = 0\n",
    "japan = 0\n",
    "iran = 0\n",
    "singapore = 0\n",
    "us = 0\n",
    "\n",
    "for tweet in tweepy.Cursor(api.search,q=\"#Coronavirus\",\n",
    "                           since=start_date,\n",
    "                           until=end_date).items():\n",
    "    content = tweet.text.lower()\n",
    "    total = total + 1\n",
    "    if(\"china\" in content or \"chinese\" in content):\n",
    "        china = china + 1\n",
    "    if(\"korea\" in content or \"korean\" in content):\n",
    "        korea = korea + 1\n",
    "    if(\"italy\" in content or \"italian\" in content):\n",
    "        italy = italy + 1\n",
    "    if(\"japan\" in content or \"japanese\" in content):\n",
    "        japan = japan + 1\n",
    "    if(\"iran\" in content or \"iranian\" in content):\n",
    "        iran = iran + 1\n",
    "    if(\"singapore\" in content or \"signaporean\" in content):\n",
    "        signapore = singapore + 1\n",
    "    if(\"us\" in content or \"usa\" in content or \"america\" in content or \"american\" in content):\n",
    "        us = us + 1\n",
    "\n",
    "print(total)\n",
    "print(china)\n",
    "print(korea)\n",
    "print(italy)\n",
    "print(japan)\n",
    "print(iran)\n",
    "print(singapore)\n",
    "print(us)"
   ]
  },
  {
   "cell_type": "markdown",
   "metadata": {},
   "source": [
    "# Daily Tweets"
   ]
  },
  {
   "cell_type": "markdown",
   "metadata": {},
   "source": [
    "### 02/18"
   ]
  },
  {
   "cell_type": "code",
   "execution_count": 10,
   "metadata": {},
   "outputs": [
    {
     "name": "stdout",
     "output_type": "stream",
     "text": [
      "0\n",
      "0\n",
      "0\n",
      "0\n",
      "0\n",
      "0\n",
      "0\n",
      "0\n"
     ]
    }
   ],
   "source": [
    "start_date = datetime.datetime(2020, 2, 18, 00, 00, 00)\n",
    "end_date = datetime.datetime(2020, 2, 19, 00, 00, 00)\n",
    "\n",
    "total = 0\n",
    "china = 0\n",
    "korea = 0\n",
    "italy = 0\n",
    "japan = 0\n",
    "iran = 0\n",
    "singapore = 0\n",
    "us = 0\n",
    "\n",
    "for tweet in tweepy.Cursor(api.search,q=\"#Coronavirus\",\n",
    "                           since=start_date,\n",
    "                           until=end_date).items():\n",
    "    content = tweet.text.lower()\n",
    "    total = total + 1\n",
    "    if(\"china\" in content or \"chinese\" in content):\n",
    "        china = china + 1\n",
    "    if(\"korea\" in content or \"korean\" in content):\n",
    "        korea = korea + 1\n",
    "    if(\"italy\" in content or \"italian\" in content):\n",
    "        italy = italy + 1\n",
    "    if(\"japan\" in content or \"japanese\" in content):\n",
    "        japan = japan + 1\n",
    "    if(\"iran\" in content or \"iranian\" in content):\n",
    "        iran = iran + 1\n",
    "    if(\"singapore\" in content or \"signaporean\" in content):\n",
    "        signapore = singapore + 1\n",
    "    if(\"us\" in content or \"usa\" in content or \"america\" in content or \"american\" in content):\n",
    "        us = us + 1\n",
    "\n",
    "print(total)\n",
    "print(china)\n",
    "print(korea)\n",
    "print(italy)\n",
    "print(japan)\n",
    "print(iran)\n",
    "print(singapore)\n",
    "print(us)"
   ]
  },
  {
   "cell_type": "markdown",
   "metadata": {},
   "source": [
    "### 02/19"
   ]
  },
  {
   "cell_type": "code",
   "execution_count": 11,
   "metadata": {},
   "outputs": [
    {
     "name": "stdout",
     "output_type": "stream",
     "text": [
      "0\n",
      "0\n",
      "0\n",
      "0\n",
      "0\n",
      "0\n",
      "0\n",
      "0\n"
     ]
    }
   ],
   "source": [
    "start_date = datetime.datetime(2020, 2, 19, 00, 00, 00)\n",
    "end_date = datetime.datetime(2020, 2, 20, 00, 00, 00)\n",
    "\n",
    "total = 0\n",
    "china = 0\n",
    "korea = 0\n",
    "italy = 0\n",
    "japan = 0\n",
    "iran = 0\n",
    "singapore = 0\n",
    "us = 0\n",
    "\n",
    "for tweet in tweepy.Cursor(api.search,q=\"#Coronavirus\",\n",
    "                           since=start_date,\n",
    "                           until=end_date).items():\n",
    "    content = tweet.text.lower()\n",
    "    total = total + 1\n",
    "    if(\"china\" in content or \"chinese\" in content):\n",
    "        china = china + 1\n",
    "    if(\"korea\" in content or \"korean\" in content):\n",
    "        korea = korea + 1\n",
    "    if(\"italy\" in content or \"italian\" in content):\n",
    "        italy = italy + 1\n",
    "    if(\"japan\" in content or \"japanese\" in content):\n",
    "        japan = japan + 1\n",
    "    if(\"iran\" in content or \"iranian\" in content):\n",
    "        iran = iran + 1\n",
    "    if(\"singapore\" in content or \"signaporean\" in content):\n",
    "        signapore = singapore + 1\n",
    "    if(\"us\" in content or \"usa\" in content or \"america\" in content or \"american\" in content):\n",
    "        us = us + 1\n",
    "\n",
    "print(total)\n",
    "print(china)\n",
    "print(korea)\n",
    "print(italy)\n",
    "print(japan)\n",
    "print(iran)\n",
    "print(singapore)\n",
    "print(us)"
   ]
  },
  {
   "cell_type": "markdown",
   "metadata": {},
   "source": [
    "### 02/20"
   ]
  },
  {
   "cell_type": "code",
   "execution_count": 12,
   "metadata": {},
   "outputs": [
    {
     "name": "stdout",
     "output_type": "stream",
     "text": [
      "0\n",
      "0\n",
      "0\n",
      "0\n",
      "0\n",
      "0\n",
      "0\n",
      "0\n"
     ]
    }
   ],
   "source": [
    "start_date = datetime.datetime(2020, 2, 20, 00, 00, 00)\n",
    "end_date = datetime.datetime(2020, 2, 21, 00, 00, 00)\n",
    "\n",
    "total = 0\n",
    "china = 0\n",
    "korea = 0\n",
    "italy = 0\n",
    "japan = 0\n",
    "iran = 0\n",
    "singapore = 0\n",
    "us = 0\n",
    "\n",
    "for tweet in tweepy.Cursor(api.search,q=\"#Coronavirus\",\n",
    "                           since=start_date,\n",
    "                           until=end_date).items():\n",
    "    content = tweet.text.lower()\n",
    "    total = total + 1\n",
    "    if(\"china\" in content or \"chinese\" in content):\n",
    "        china = china + 1\n",
    "    if(\"korea\" in content or \"korean\" in content):\n",
    "        korea = korea + 1\n",
    "    if(\"italy\" in content or \"italian\" in content):\n",
    "        italy = italy + 1\n",
    "    if(\"japan\" in content or \"japanese\" in content):\n",
    "        japan = japan + 1\n",
    "    if(\"iran\" in content or \"iranian\" in content):\n",
    "        iran = iran + 1\n",
    "    if(\"singapore\" in content or \"signaporean\" in content):\n",
    "        signapore = singapore + 1\n",
    "    if(\"us\" in content or \"usa\" in content or \"america\" in content or \"american\" in content):\n",
    "        us = us + 1\n",
    "\n",
    "print(total)\n",
    "print(china)\n",
    "print(korea)\n",
    "print(italy)\n",
    "print(japan)\n",
    "print(iran)\n",
    "print(singapore)\n",
    "print(us)"
   ]
  },
  {
   "cell_type": "markdown",
   "metadata": {},
   "source": [
    "### 02/21"
   ]
  },
  {
   "cell_type": "code",
   "execution_count": 13,
   "metadata": {},
   "outputs": [
    {
     "name": "stdout",
     "output_type": "stream",
     "text": [
      "0\n",
      "0\n",
      "0\n",
      "0\n",
      "0\n",
      "0\n",
      "0\n",
      "0\n"
     ]
    }
   ],
   "source": [
    "start_date = datetime.datetime(2020, 2, 21, 00, 00, 00)\n",
    "end_date = datetime.datetime(2020, 2, 22, 00, 00, 00)\n",
    "\n",
    "total = 0\n",
    "china = 0\n",
    "korea = 0\n",
    "italy = 0\n",
    "japan = 0\n",
    "iran = 0\n",
    "singapore = 0\n",
    "us = 0\n",
    "\n",
    "for tweet in tweepy.Cursor(api.search,q=\"#Coronavirus\",\n",
    "                           since=start_date,\n",
    "                           until=end_date).items():\n",
    "    content = tweet.text.lower()\n",
    "    total = total + 1\n",
    "    if(\"china\" in content or \"chinese\" in content):\n",
    "        china = china + 1\n",
    "    if(\"korea\" in content or \"korean\" in content):\n",
    "        korea = korea + 1\n",
    "    if(\"italy\" in content or \"italian\" in content):\n",
    "        italy = italy + 1\n",
    "    if(\"japan\" in content or \"japanese\" in content):\n",
    "        japan = japan + 1\n",
    "    if(\"iran\" in content or \"iranian\" in content):\n",
    "        iran = iran + 1\n",
    "    if(\"singapore\" in content or \"signaporean\" in content):\n",
    "        signapore = singapore + 1\n",
    "    if(\"us\" in content or \"usa\" in content or \"america\" in content or \"american\" in content):\n",
    "        us = us + 1\n",
    "\n",
    "print(total)\n",
    "print(china)\n",
    "print(korea)\n",
    "print(italy)\n",
    "print(japan)\n",
    "print(iran)\n",
    "print(singapore)\n",
    "print(us)"
   ]
  },
  {
   "cell_type": "markdown",
   "metadata": {},
   "source": [
    "### 02/22"
   ]
  },
  {
   "cell_type": "code",
   "execution_count": 14,
   "metadata": {},
   "outputs": [
    {
     "name": "stdout",
     "output_type": "stream",
     "text": [
      "0\n",
      "0\n",
      "0\n",
      "0\n",
      "0\n",
      "0\n",
      "0\n",
      "0\n"
     ]
    }
   ],
   "source": [
    "start_date = datetime.datetime(2020, 2, 22, 00, 00, 00)\n",
    "end_date = datetime.datetime(2020, 2, 23, 00, 00, 00)\n",
    "\n",
    "total = 0\n",
    "china = 0\n",
    "korea = 0\n",
    "italy = 0\n",
    "japan = 0\n",
    "iran = 0\n",
    "singapore = 0\n",
    "us = 0\n",
    "\n",
    "for tweet in tweepy.Cursor(api.search,q=\"#Coronavirus\",\n",
    "                           since=start_date,\n",
    "                           until=end_date).items():\n",
    "    content = tweet.text.lower()\n",
    "    total = total + 1\n",
    "    if(\"china\" in content or \"chinese\" in content):\n",
    "        china = china + 1\n",
    "    if(\"korea\" in content or \"korean\" in content):\n",
    "        korea = korea + 1\n",
    "    if(\"italy\" in content or \"italian\" in content):\n",
    "        italy = italy + 1\n",
    "    if(\"japan\" in content or \"japanese\" in content):\n",
    "        japan = japan + 1\n",
    "    if(\"iran\" in content or \"iranian\" in content):\n",
    "        iran = iran + 1\n",
    "    if(\"singapore\" in content or \"signaporean\" in content):\n",
    "        signapore = singapore + 1\n",
    "    if(\"us\" in content or \"usa\" in content or \"america\" in content or \"american\" in content):\n",
    "        us = us + 1\n",
    "\n",
    "print(total)\n",
    "print(china)\n",
    "print(korea)\n",
    "print(italy)\n",
    "print(japan)\n",
    "print(iran)\n",
    "print(singapore)\n",
    "print(us)"
   ]
  },
  {
   "cell_type": "markdown",
   "metadata": {},
   "source": [
    "### 02/23"
   ]
  },
  {
   "cell_type": "code",
   "execution_count": 15,
   "metadata": {},
   "outputs": [
    {
     "name": "stdout",
     "output_type": "stream",
     "text": [
      "0\n",
      "0\n",
      "0\n",
      "0\n",
      "0\n",
      "0\n",
      "0\n",
      "0\n"
     ]
    }
   ],
   "source": [
    "start_date = datetime.datetime(2020, 2, 23, 00, 00, 00)\n",
    "end_date = datetime.datetime(2020, 2, 24, 00, 00, 00)\n",
    "\n",
    "total = 0\n",
    "china = 0\n",
    "korea = 0\n",
    "italy = 0\n",
    "japan = 0\n",
    "iran = 0\n",
    "singapore = 0\n",
    "us = 0\n",
    "\n",
    "for tweet in tweepy.Cursor(api.search,q=\"#Coronavirus\",\n",
    "                           since=start_date,\n",
    "                           until=end_date).items():\n",
    "    content = tweet.text.lower()\n",
    "    total = total + 1\n",
    "    if(\"china\" in content or \"chinese\" in content):\n",
    "        china = china + 1\n",
    "    if(\"korea\" in content or \"korean\" in content):\n",
    "        korea = korea + 1\n",
    "    if(\"italy\" in content or \"italian\" in content):\n",
    "        italy = italy + 1\n",
    "    if(\"japan\" in content or \"japanese\" in content):\n",
    "        japan = japan + 1\n",
    "    if(\"iran\" in content or \"iranian\" in content):\n",
    "        iran = iran + 1\n",
    "    if(\"singapore\" in content or \"signaporean\" in content):\n",
    "        signapore = singapore + 1\n",
    "    if(\"us\" in content or \"usa\" in content or \"america\" in content or \"american\" in content):\n",
    "        us = us + 1\n",
    "\n",
    "print(total)\n",
    "print(china)\n",
    "print(korea)\n",
    "print(italy)\n",
    "print(japan)\n",
    "print(iran)\n",
    "print(singapore)\n",
    "print(us)"
   ]
  },
  {
   "cell_type": "markdown",
   "metadata": {},
   "source": [
    "### 02/24"
   ]
  },
  {
   "cell_type": "code",
   "execution_count": 16,
   "metadata": {},
   "outputs": [
    {
     "name": "stdout",
     "output_type": "stream",
     "text": [
      "0\n",
      "0\n",
      "0\n",
      "0\n",
      "0\n",
      "0\n",
      "0\n",
      "0\n"
     ]
    }
   ],
   "source": [
    "start_date = datetime.datetime(2020, 2, 24, 00, 00, 00)\n",
    "end_date = datetime.datetime(2020, 2, 25, 00, 00, 00)\n",
    "\n",
    "total = 0\n",
    "china = 0\n",
    "korea = 0\n",
    "italy = 0\n",
    "japan = 0\n",
    "iran = 0\n",
    "singapore = 0\n",
    "us = 0\n",
    "\n",
    "for tweet in tweepy.Cursor(api.search,q=\"#Coronavirus\",\n",
    "                           since=start_date,\n",
    "                           until=end_date).items():\n",
    "    content = tweet.text.lower()\n",
    "    total = total + 1\n",
    "    if(\"china\" in content or \"chinese\" in content):\n",
    "        china = china + 1\n",
    "    if(\"korea\" in content or \"korean\" in content):\n",
    "        korea = korea + 1\n",
    "    if(\"italy\" in content or \"italian\" in content):\n",
    "        italy = italy + 1\n",
    "    if(\"japan\" in content or \"japanese\" in content):\n",
    "        japan = japan + 1\n",
    "    if(\"iran\" in content or \"iranian\" in content):\n",
    "        iran = iran + 1\n",
    "    if(\"singapore\" in content or \"signaporean\" in content):\n",
    "        signapore = singapore + 1\n",
    "    if(\"us\" in content or \"usa\" in content or \"america\" in content or \"american\" in content):\n",
    "        us = us + 1\n",
    "\n",
    "print(total)\n",
    "print(china)\n",
    "print(korea)\n",
    "print(italy)\n",
    "print(japan)\n",
    "print(iran)\n",
    "print(singapore)\n",
    "print(us)"
   ]
  },
  {
   "cell_type": "markdown",
   "metadata": {},
   "source": [
    "### 02/25"
   ]
  },
  {
   "cell_type": "code",
   "execution_count": 37,
   "metadata": {},
   "outputs": [
    {
     "name": "stdout",
     "output_type": "stream",
     "text": [
      "129\n",
      "5\n",
      "0\n",
      "0\n",
      "0\n",
      "2\n",
      "0\n",
      "111\n"
     ]
    }
   ],
   "source": [
    "start_date = datetime.datetime(2020, 2, 25, 00, 00, 00)\n",
    "end_date = datetime.datetime(2020, 2, 26, 00, 00, 00)\n",
    "\n",
    "total = 0\n",
    "china = 0\n",
    "korea = 0\n",
    "italy = 0\n",
    "japan = 0\n",
    "iran = 0\n",
    "singapore = 0\n",
    "us = 0\n",
    "\n",
    "# Open/Create a file to append data\n",
    "csvFile = open('02_25.csv', 'a')\n",
    "#Use csv Writer\n",
    "csvWriter = csv.writer(csvFile)\n",
    "\n",
    "for tweet in tweepy.Cursor(api.search,q=\"#Coronavirus\",\n",
    "                           since=start_date,\n",
    "                           until=end_date).items():\n",
    "    content = tweet.text.lower()\n",
    "    total = total + 1\n",
    "    csvWriter.writerow([tweet.created_at, tweet.text.encode('utf-8')])\n",
    "    if(\"china\" in content or \"chinese\" in content):\n",
    "        china = china + 1\n",
    "    if(\"korea\" in content or \"korean\" in content):\n",
    "        korea = korea + 1\n",
    "    if(\"italy\" in content or \"italian\" in content):\n",
    "        italy = italy + 1\n",
    "    if(\"japan\" in content or \"japanese\" in content):\n",
    "        japan = japan + 1\n",
    "    if(\"iran\" in content or \"iranian\" in content):\n",
    "        iran = iran + 1\n",
    "    if(\"singapore\" in content or \"signaporean\" in content):\n",
    "        signapore = singapore + 1\n",
    "    if(\"us\" in content or \"usa\" in content or \"america\" in content or \"american\" in content):\n",
    "        us = us + 1\n",
    "\n",
    "print(total)\n",
    "print(china)\n",
    "print(korea)\n",
    "print(italy)\n",
    "print(japan)\n",
    "print(iran)\n",
    "print(singapore)\n",
    "print(us)"
   ]
  },
  {
   "cell_type": "markdown",
   "metadata": {},
   "source": [
    "### 02/26 "
   ]
  },
  {
   "cell_type": "code",
   "execution_count": 4,
   "metadata": {},
   "outputs": [
    {
     "name": "stdout",
     "output_type": "stream",
     "text": [
      "589\n",
      "15\n",
      "0\n",
      "14\n",
      "0\n",
      "7\n",
      "0\n",
      "495\n"
     ]
    }
   ],
   "source": [
    "start_date = datetime.datetime(2020, 2, 26, 00, 00, 00)\n",
    "end_date = datetime.datetime(2020, 2, 27, 00, 00, 00)\n",
    "\n",
    "total = 0\n",
    "china = 0\n",
    "korea = 0\n",
    "italy = 0\n",
    "japan = 0\n",
    "iran = 0\n",
    "singapore = 0\n",
    "us = 0\n",
    "\n",
    "# Open/Create a file to append data\n",
    "csvFile = open('02_26.csv', 'a')\n",
    "#Use csv Writer\n",
    "csvWriter = csv.writer(csvFile)\n",
    "\n",
    "\n",
    "for tweet in tweepy.Cursor(api.search,q=\"#Coronavirus\",\n",
    "                           since=start_date,\n",
    "                           until=end_date).items():\n",
    "    content = tweet.text.lower()\n",
    "    total = total + 1\n",
    "    csvWriter.writerow([tweet.created_at, tweet.text.encode('utf-8')])\n",
    "    if(\"china\" in content or \"chinese\" in content):\n",
    "        china = china + 1\n",
    "    if(\"korea\" in content or \"korean\" in content):\n",
    "        korea = korea + 1\n",
    "    if(\"italy\" in content or \"italian\" in content):\n",
    "        italy = italy + 1\n",
    "    if(\"japan\" in content or \"japanese\" in content):\n",
    "        japan = japan + 1\n",
    "    if(\"iran\" in content or \"iranian\" in content):\n",
    "        iran = iran + 1\n",
    "    if(\"singapore\" in content or \"signaporean\" in content):\n",
    "        signapore = singapore + 1\n",
    "    if(\"us\" in content or \"usa\" in content or \"america\" in content or \"american\" in content):\n",
    "        us = us + 1\n",
    "\n",
    "print(total)\n",
    "print(china)\n",
    "print(korea)\n",
    "print(italy)\n",
    "print(japan)\n",
    "print(iran)\n",
    "print(singapore)\n",
    "print(us)"
   ]
  },
  {
   "cell_type": "markdown",
   "metadata": {},
   "source": [
    "### 02/27"
   ]
  },
  {
   "cell_type": "code",
   "execution_count": 5,
   "metadata": {},
   "outputs": [
    {
     "name": "stdout",
     "output_type": "stream",
     "text": [
      "1246\n",
      "59\n",
      "33\n",
      "18\n",
      "13\n",
      "29\n",
      "0\n",
      "920\n"
     ]
    }
   ],
   "source": [
    "start_date = datetime.datetime(2020, 2, 27, 00, 00, 00)\n",
    "end_date = datetime.datetime(2020, 2, 28, 00, 00, 00)\n",
    "\n",
    "total = 0\n",
    "china = 0\n",
    "korea = 0\n",
    "italy = 0\n",
    "japan = 0\n",
    "iran = 0\n",
    "singapore = 0\n",
    "us = 0\n",
    "\n",
    "# Open/Create a file to append data\n",
    "csvFile = open('02_27.csv', 'a')\n",
    "#Use csv Writer\n",
    "csvWriter = csv.writer(csvFile)\n",
    "\n",
    "\n",
    "for tweet in tweepy.Cursor(api.search,q=\"#Coronavirus\",\n",
    "                           since=start_date,\n",
    "                           until=end_date).items():\n",
    "    content = tweet.text.lower()\n",
    "    total = total + 1\n",
    "    csvWriter.writerow([tweet.created_at, tweet.text.encode('utf-8')])\n",
    "    if(\"china\" in content or \"chinese\" in content):\n",
    "        china = china + 1\n",
    "    if(\"korea\" in content or \"korean\" in content):\n",
    "        korea = korea + 1\n",
    "    if(\"italy\" in content or \"italian\" in content):\n",
    "        italy = italy + 1\n",
    "    if(\"japan\" in content or \"japanese\" in content):\n",
    "        japan = japan + 1\n",
    "    if(\"iran\" in content or \"iranian\" in content):\n",
    "        iran = iran + 1\n",
    "    if(\"singapore\" in content or \"signaporean\" in content):\n",
    "        signapore = singapore + 1\n",
    "    if(\"us\" in content or \"usa\" in content or \"america\" in content or \"american\" in content):\n",
    "        us = us + 1\n",
    "\n",
    "print(total)\n",
    "print(china)\n",
    "print(korea)\n",
    "print(italy)\n",
    "print(japan)\n",
    "print(iran)\n",
    "print(singapore)\n",
    "print(us)"
   ]
  },
  {
   "cell_type": "markdown",
   "metadata": {},
   "source": [
    "### 02/28"
   ]
  },
  {
   "cell_type": "code",
   "execution_count": 5,
   "metadata": {},
   "outputs": [
    {
     "name": "stdout",
     "output_type": "stream",
     "text": [
      "0\n",
      "0\n",
      "0\n",
      "0\n",
      "0\n",
      "0\n",
      "0\n",
      "0\n"
     ]
    }
   ],
   "source": [
    "start_date = datetime.datetime(2020, 2, 28, 00, 00, 00)\n",
    "end_date = datetime.datetime(2020, 2, 29, 00, 00, 00)\n",
    "\n",
    "total = 0\n",
    "china = 0\n",
    "korea = 0\n",
    "italy = 0\n",
    "japan = 0\n",
    "iran = 0\n",
    "singapore = 0\n",
    "us = 0\n",
    "\n",
    "# Open/Create a file to append data\n",
    "csvFile = open('02_28.csv', 'a')\n",
    "#Use csv Writer\n",
    "csvWriter = csv.writer(csvFile)\n",
    "\n",
    "for tweet in tweepy.Cursor(api.search,q=\"#Coronavirus\",\n",
    "                           since=start_date,\n",
    "                           until=end_date).items():\n",
    "    content = tweet.text.lower()\n",
    "    total = total + 1\n",
    "    csvWriter.writerow([tweet.created_at, tweet.text.encode('utf-8')])\n",
    "    if(\"china\" in content or \"chinese\" in content):\n",
    "        china = china + 1\n",
    "    if(\"korea\" in content or \"korean\" in content):\n",
    "        korea = korea + 1\n",
    "    if(\"italy\" in content or \"italian\" in content):\n",
    "        italy = italy + 1\n",
    "    if(\"japan\" in content or \"japanese\" in content):\n",
    "        japan = japan + 1\n",
    "    if(\"iran\" in content or \"iranian\" in content):\n",
    "        iran = iran + 1\n",
    "    if(\"singapore\" in content or \"signaporean\" in content):\n",
    "        signapore = singapore + 1\n",
    "    if(\"us\" in content or \"usa\" in content or \"america\" in content or \"american\" in content):\n",
    "        us = us + 1\n",
    "\n",
    "print(total)\n",
    "print(china)\n",
    "print(korea)\n",
    "print(italy)\n",
    "print(japan)\n",
    "print(iran)\n",
    "print(singapore)\n",
    "print(us)"
   ]
  },
  {
   "cell_type": "markdown",
   "metadata": {},
   "source": [
    "### 02/29"
   ]
  },
  {
   "cell_type": "code",
   "execution_count": null,
   "metadata": {},
   "outputs": [],
   "source": [
    "start_date = datetime.datetime(2020, 2, 29, 00, 00, 00)\n",
    "end_date = datetime.datetime(2020, 3, 1, 00, 00, 00)\n",
    "\n",
    "total = 0\n",
    "china = 0\n",
    "korea = 0\n",
    "italy = 0\n",
    "japan = 0\n",
    "iran = 0\n",
    "singapore = 0\n",
    "us = 0\n",
    "\n",
    "# Open/Create a file to append data\n",
    "csvFile = open('02_29.csv', 'a')\n",
    "#Use csv Writer\n",
    "csvWriter = csv.writer(csvFile)\n",
    "\n",
    "for tweet in tweepy.Cursor(api.search,q=\"#Coronavirus\",\n",
    "                           since=start_date,\n",
    "                           until=end_date).items():\n",
    "    content = tweet.text.lower()\n",
    "    total = total + 1\n",
    "    csvWriter.writerow([tweet.created_at, tweet.text.encode('utf-8')])\n",
    "    if(\"china\" in content or \"chinese\" in content):\n",
    "        china = china + 1\n",
    "    if(\"korea\" in content or \"korean\" in content):\n",
    "        korea = korea + 1\n",
    "    if(\"italy\" in content or \"italian\" in content):\n",
    "        italy = italy + 1\n",
    "    if(\"japan\" in content or \"japanese\" in content):\n",
    "        japan = japan + 1\n",
    "    if(\"iran\" in content or \"iranian\" in content):\n",
    "        iran = iran + 1\n",
    "    if(\"singapore\" in content or \"signaporean\" in content):\n",
    "        signapore = singapore + 1\n",
    "    if(\"us\" in content or \"usa\" in content or \"america\" in content or \"american\" in content):\n",
    "        us = us + 1\n",
    "\n",
    "print(total)\n",
    "print(china)\n",
    "print(korea)\n",
    "print(italy)\n",
    "print(japan)\n",
    "print(iran)\n",
    "print(singapore)\n",
    "print(us)"
   ]
  },
  {
   "cell_type": "markdown",
   "metadata": {},
   "source": [
    "### 03/01"
   ]
  },
  {
   "cell_type": "code",
   "execution_count": null,
   "metadata": {},
   "outputs": [],
   "source": [
    "start_date = datetime.datetime(2020, 3, 1, 00, 00, 00)\n",
    "end_date = datetime.datetime(2020, 3, 2, 00, 00, 00)\n",
    "\n",
    "total = 0\n",
    "china = 0\n",
    "korea = 0\n",
    "italy = 0\n",
    "japan = 0\n",
    "iran = 0\n",
    "singapore = 0\n",
    "us = 0\n",
    "\n",
    "# Open/Create a file to append data\n",
    "csvFile = open('03_01.csv', 'a')\n",
    "#Use csv Writer\n",
    "csvWriter = csv.writer(csvFile)\n",
    "\n",
    "for tweet in tweepy.Cursor(api.search,q=\"#Coronavirus\",\n",
    "                           since=start_date,\n",
    "                           until=end_date).items():\n",
    "    content = tweet.text.lower()\n",
    "    total = total + 1\n",
    "    csvWriter.writerow([tweet.created_at, tweet.text.encode('utf-8')])\n",
    "    if(\"china\" in content or \"chinese\" in content):\n",
    "        china = china + 1\n",
    "    if(\"korea\" in content or \"korean\" in content):\n",
    "        korea = korea + 1\n",
    "    if(\"italy\" in content or \"italian\" in content):\n",
    "        italy = italy + 1\n",
    "    if(\"japan\" in content or \"japanese\" in content):\n",
    "        japan = japan + 1\n",
    "    if(\"iran\" in content or \"iranian\" in content):\n",
    "        iran = iran + 1\n",
    "    if(\"singapore\" in content or \"signaporean\" in content):\n",
    "        signapore = singapore + 1\n",
    "    if(\"us\" in content or \"usa\" in content or \"america\" in content or \"american\" in content):\n",
    "        us = us + 1\n",
    "\n",
    "print(total)\n",
    "print(china)\n",
    "print(korea)\n",
    "print(italy)\n",
    "print(japan)\n",
    "print(iran)\n",
    "print(singapore)\n",
    "print(us)"
   ]
  },
  {
   "cell_type": "markdown",
   "metadata": {},
   "source": [
    "### 03/02"
   ]
  },
  {
   "cell_type": "code",
   "execution_count": 5,
   "metadata": {},
   "outputs": [
    {
     "name": "stdout",
     "output_type": "stream",
     "text": [
      "1757\n",
      "11\n",
      "19\n",
      "66\n",
      "4\n",
      "44\n",
      "0\n",
      "1362\n"
     ]
    }
   ],
   "source": [
    "start_date = datetime.datetime(2020, 3, 2, 00, 00, 00)\n",
    "end_date = datetime.datetime(2020, 3, 3, 00, 00, 00)\n",
    "\n",
    "total = 0\n",
    "china = 0\n",
    "korea = 0\n",
    "italy = 0\n",
    "japan = 0\n",
    "iran = 0\n",
    "singapore = 0\n",
    "us = 0\n",
    "\n",
    "# Open/Create a file to append data\n",
    "csvFile = open('03_02.csv', 'a')\n",
    "#Use csv Writer\n",
    "csvWriter = csv.writer(csvFile)\n",
    "\n",
    "for tweet in tweepy.Cursor(api.search,q=\"#Coronavirus\",\n",
    "                           since=start_date,\n",
    "                           until=end_date).items():\n",
    "    content = tweet.text.lower()\n",
    "    total = total + 1\n",
    "    csvWriter.writerow([tweet.created_at, tweet.text.encode('utf-8')])\n",
    "    if(\"china\" in content or \"chinese\" in content):\n",
    "        china = china + 1\n",
    "    if(\"korea\" in content or \"korean\" in content):\n",
    "        korea = korea + 1\n",
    "    if(\"italy\" in content or \"italian\" in content):\n",
    "        italy = italy + 1\n",
    "    if(\"japan\" in content or \"japanese\" in content):\n",
    "        japan = japan + 1\n",
    "    if(\"iran\" in content or \"iranian\" in content):\n",
    "        iran = iran + 1\n",
    "    if(\"singapore\" in content or \"signaporean\" in content):\n",
    "        signapore = singapore + 1\n",
    "    if(\"us\" in content or \"usa\" in content or \"america\" in content or \"american\" in content):\n",
    "        us = us + 1\n",
    "\n",
    "print(total)\n",
    "print(china)\n",
    "print(korea)\n",
    "print(italy)\n",
    "print(japan)\n",
    "print(iran)\n",
    "print(singapore)\n",
    "print(us)"
   ]
  },
  {
   "cell_type": "markdown",
   "metadata": {},
   "source": [
    "### 3/3"
   ]
  },
  {
   "cell_type": "code",
   "execution_count": 6,
   "metadata": {},
   "outputs": [
    {
     "name": "stdout",
     "output_type": "stream",
     "text": [
      "1538\n",
      "12\n",
      "10\n",
      "19\n",
      "11\n",
      "29\n",
      "0\n",
      "1141\n"
     ]
    }
   ],
   "source": [
    "start_date = datetime.datetime(2020, 3, 3, 00, 00, 00)\n",
    "end_date = datetime.datetime(2020, 3, 4, 00, 00, 00)\n",
    "\n",
    "total = 0\n",
    "china = 0\n",
    "korea = 0\n",
    "italy = 0\n",
    "japan = 0\n",
    "iran = 0\n",
    "singapore = 0\n",
    "us = 0\n",
    "\n",
    "# Open/Create a file to append data\n",
    "csvFile = open('03_03.csv', 'a')\n",
    "#Use csv Writer\n",
    "csvWriter = csv.writer(csvFile)\n",
    "\n",
    "for tweet in tweepy.Cursor(api.search,q=\"#Coronavirus\",\n",
    "                           since=start_date,\n",
    "                           until=end_date).items():\n",
    "    content = tweet.text.lower()\n",
    "    total = total + 1\n",
    "    csvWriter.writerow([tweet.created_at, tweet.text.encode('utf-8')])\n",
    "    if(\"china\" in content or \"chinese\" in content):\n",
    "        china = china + 1\n",
    "    if(\"korea\" in content or \"korean\" in content):\n",
    "        korea = korea + 1\n",
    "    if(\"italy\" in content or \"italian\" in content):\n",
    "        italy = italy + 1\n",
    "    if(\"japan\" in content or \"japanese\" in content):\n",
    "        japan = japan + 1\n",
    "    if(\"iran\" in content or \"iranian\" in content):\n",
    "        iran = iran + 1\n",
    "    if(\"singapore\" in content or \"signaporean\" in content):\n",
    "        signapore = singapore + 1\n",
    "    if(\"us\" in content or \"usa\" in content or \"america\" in content or \"american\" in content):\n",
    "        us = us + 1\n",
    "\n",
    "print(total)\n",
    "print(china)\n",
    "print(korea)\n",
    "print(italy)\n",
    "print(japan)\n",
    "print(iran)\n",
    "print(singapore)\n",
    "print(us)"
   ]
  },
  {
   "cell_type": "markdown",
   "metadata": {},
   "source": [
    "### 3/4"
   ]
  },
  {
   "cell_type": "code",
   "execution_count": 7,
   "metadata": {},
   "outputs": [
    {
     "name": "stdout",
     "output_type": "stream",
     "text": [
      "1245\n",
      "37\n",
      "9\n",
      "31\n",
      "7\n",
      "41\n",
      "0\n",
      "914\n"
     ]
    }
   ],
   "source": [
    "start_date = datetime.datetime(2020, 3, 4, 00, 00, 00)\n",
    "end_date = datetime.datetime(2020, 3, 5, 00, 00, 00)\n",
    "\n",
    "total = 0\n",
    "china = 0\n",
    "korea = 0\n",
    "italy = 0\n",
    "japan = 0\n",
    "iran = 0\n",
    "singapore = 0\n",
    "us = 0\n",
    "\n",
    "# Open/Create a file to append data\n",
    "csvFile = open('03_03.csv', 'a')\n",
    "#Use csv Writer\n",
    "csvWriter = csv.writer(csvFile)\n",
    "\n",
    "for tweet in tweepy.Cursor(api.search,q=\"#Coronavirus\",\n",
    "                           since=start_date,\n",
    "                           until=end_date).items():\n",
    "    content = tweet.text.lower()\n",
    "    total = total + 1\n",
    "    csvWriter.writerow([tweet.created_at, tweet.text.encode('utf-8')])\n",
    "    if(\"china\" in content or \"chinese\" in content):\n",
    "        china = china + 1\n",
    "    if(\"korea\" in content or \"korean\" in content):\n",
    "        korea = korea + 1\n",
    "    if(\"italy\" in content or \"italian\" in content):\n",
    "        italy = italy + 1\n",
    "    if(\"japan\" in content or \"japanese\" in content):\n",
    "        japan = japan + 1\n",
    "    if(\"iran\" in content or \"iranian\" in content):\n",
    "        iran = iran + 1\n",
    "    if(\"singapore\" in content or \"signaporean\" in content):\n",
    "        signapore = singapore + 1\n",
    "    if(\"us\" in content or \"usa\" in content or \"america\" in content or \"american\" in content):\n",
    "        us = us + 1\n",
    "\n",
    "print(total)\n",
    "print(china)\n",
    "print(korea)\n",
    "print(italy)\n",
    "print(japan)\n",
    "print(iran)\n",
    "print(singapore)\n",
    "print(us)"
   ]
  },
  {
   "cell_type": "markdown",
   "metadata": {},
   "source": [
    "### 3/5"
   ]
  },
  {
   "cell_type": "code",
   "execution_count": 9,
   "metadata": {},
   "outputs": [
    {
     "name": "stdout",
     "output_type": "stream",
     "text": [
      "1107\n",
      "12\n",
      "3\n",
      "49\n",
      "5\n",
      "5\n",
      "0\n",
      "889\n"
     ]
    }
   ],
   "source": [
    "start_date = datetime.datetime(2020, 3, 5, 00, 00, 00)\n",
    "end_date = datetime.datetime(2020, 3, 6, 00, 00, 00)\n",
    "\n",
    "total = 0\n",
    "china = 0\n",
    "korea = 0\n",
    "italy = 0\n",
    "japan = 0\n",
    "iran = 0\n",
    "singapore = 0\n",
    "us = 0\n",
    "\n",
    "# Open/Create a file to append data\n",
    "csvFile = open('03_05.csv', 'a')\n",
    "#Use csv Writer\n",
    "csvWriter = csv.writer(csvFile)\n",
    "\n",
    "for tweet in tweepy.Cursor(api.search,q=\"#Coronavirus\",\n",
    "                           since=start_date,\n",
    "                           until=end_date).items():\n",
    "    content = tweet.text.lower()\n",
    "    total = total + 1\n",
    "    csvWriter.writerow([tweet.created_at, tweet.text.encode('utf-8')])\n",
    "    if(\"china\" in content or \"chinese\" in content):\n",
    "        china = china + 1\n",
    "    if(\"korea\" in content or \"korean\" in content):\n",
    "        korea = korea + 1\n",
    "    if(\"italy\" in content or \"italian\" in content):\n",
    "        italy = italy + 1\n",
    "    if(\"japan\" in content or \"japanese\" in content):\n",
    "        japan = japan + 1\n",
    "    if(\"iran\" in content or \"iranian\" in content):\n",
    "        iran = iran + 1\n",
    "    if(\"singapore\" in content or \"signaporean\" in content):\n",
    "        signapore = singapore + 1\n",
    "    if(\"us\" in content or \"usa\" in content or \"america\" in content or \"american\" in content):\n",
    "        us = us + 1\n",
    "\n",
    "print(total)\n",
    "print(china)\n",
    "print(korea)\n",
    "print(italy)\n",
    "print(japan)\n",
    "print(iran)\n",
    "print(singapore)\n",
    "print(us)"
   ]
  },
  {
   "cell_type": "markdown",
   "metadata": {},
   "source": [
    "### 3/6"
   ]
  },
  {
   "cell_type": "code",
   "execution_count": 10,
   "metadata": {},
   "outputs": [
    {
     "name": "stdout",
     "output_type": "stream",
     "text": [
      "1117\n",
      "12\n",
      "10\n",
      "18\n",
      "3\n",
      "18\n",
      "0\n",
      "925\n"
     ]
    }
   ],
   "source": [
    "start_date = datetime.datetime(2020, 3, 6, 00, 00, 00)\n",
    "end_date = datetime.datetime(2020, 3, 7, 00, 00, 00)\n",
    "\n",
    "total = 0\n",
    "china = 0\n",
    "korea = 0\n",
    "italy = 0\n",
    "japan = 0\n",
    "iran = 0\n",
    "singapore = 0\n",
    "us = 0\n",
    "\n",
    "# Open/Create a file to append data\n",
    "csvFile = open('03_06.csv', 'a')\n",
    "#Use csv Writer\n",
    "csvWriter = csv.writer(csvFile)\n",
    "\n",
    "for tweet in tweepy.Cursor(api.search,q=\"#Coronavirus\",\n",
    "                           since=start_date,\n",
    "                           until=end_date).items():\n",
    "    content = tweet.text.lower()\n",
    "    total = total + 1\n",
    "    csvWriter.writerow([tweet.created_at, tweet.text.encode('utf-8')])\n",
    "    if(\"china\" in content or \"chinese\" in content):\n",
    "        china = china + 1\n",
    "    if(\"korea\" in content or \"korean\" in content):\n",
    "        korea = korea + 1\n",
    "    if(\"italy\" in content or \"italian\" in content):\n",
    "        italy = italy + 1\n",
    "    if(\"japan\" in content or \"japanese\" in content):\n",
    "        japan = japan + 1\n",
    "    if(\"iran\" in content or \"iranian\" in content):\n",
    "        iran = iran + 1\n",
    "    if(\"singapore\" in content or \"signaporean\" in content):\n",
    "        signapore = singapore + 1\n",
    "    if(\"us\" in content or \"usa\" in content or \"america\" in content or \"american\" in content):\n",
    "        us = us + 1\n",
    "\n",
    "print(total)\n",
    "print(china)\n",
    "print(korea)\n",
    "print(italy)\n",
    "print(japan)\n",
    "print(iran)\n",
    "print(singapore)\n",
    "print(us)"
   ]
  },
  {
   "cell_type": "markdown",
   "metadata": {},
   "source": [
    "### 3/7"
   ]
  },
  {
   "cell_type": "code",
   "execution_count": 12,
   "metadata": {},
   "outputs": [
    {
     "name": "stdout",
     "output_type": "stream",
     "text": [
      "1407\n",
      "16\n",
      "6\n",
      "54\n",
      "1\n",
      "104\n",
      "0\n",
      "1112\n"
     ]
    }
   ],
   "source": [
    "start_date = datetime.datetime(2020, 3, 7, 00, 00, 00)\n",
    "end_date = datetime.datetime(2020, 3, 8, 00, 00, 00)\n",
    "\n",
    "total = 0\n",
    "china = 0\n",
    "korea = 0\n",
    "italy = 0\n",
    "japan = 0\n",
    "iran = 0\n",
    "singapore = 0\n",
    "us = 0\n",
    "\n",
    "# Open/Create a file to append data\n",
    "csvFile = open('03_07.csv', 'a')\n",
    "#Use csv Writer\n",
    "csvWriter = csv.writer(csvFile)\n",
    "\n",
    "for tweet in tweepy.Cursor(api.search,q=\"#Coronavirus\",\n",
    "                           since=start_date,\n",
    "                           until=end_date).items():\n",
    "    content = tweet.text.lower()\n",
    "    total = total + 1\n",
    "    csvWriter.writerow([tweet.created_at, tweet.text.encode('utf-8')])\n",
    "    if(\"china\" in content or \"chinese\" in content):\n",
    "        china = china + 1\n",
    "    if(\"korea\" in content or \"korean\" in content):\n",
    "        korea = korea + 1\n",
    "    if(\"italy\" in content or \"italian\" in content):\n",
    "        italy = italy + 1\n",
    "    if(\"japan\" in content or \"japanese\" in content):\n",
    "        japan = japan + 1\n",
    "    if(\"iran\" in content or \"iranian\" in content):\n",
    "        iran = iran + 1\n",
    "    if(\"singapore\" in content or \"signaporean\" in content):\n",
    "        signapore = singapore + 1\n",
    "    if(\"us\" in content or \"usa\" in content or \"america\" in content or \"american\" in content):\n",
    "        us = us + 1\n",
    "\n",
    "print(total)\n",
    "print(china)\n",
    "print(korea)\n",
    "print(italy)\n",
    "print(japan)\n",
    "print(iran)\n",
    "print(singapore)\n",
    "print(us)"
   ]
  },
  {
   "cell_type": "markdown",
   "metadata": {},
   "source": [
    "### 3/8"
   ]
  },
  {
   "cell_type": "code",
   "execution_count": 13,
   "metadata": {},
   "outputs": [
    {
     "name": "stdout",
     "output_type": "stream",
     "text": [
      "1371\n",
      "29\n",
      "14\n",
      "25\n",
      "6\n",
      "149\n",
      "0\n",
      "918\n"
     ]
    }
   ],
   "source": [
    "start_date = datetime.datetime(2020, 3, 8, 00, 00, 00)\n",
    "end_date = datetime.datetime(2020, 3, 9, 00, 00, 00)\n",
    "\n",
    "total = 0\n",
    "china = 0\n",
    "korea = 0\n",
    "italy = 0\n",
    "japan = 0\n",
    "iran = 0\n",
    "singapore = 0\n",
    "us = 0\n",
    "\n",
    "# Open/Create a file to append data\n",
    "csvFile = open('03_08.csv', 'a')\n",
    "#Use csv Writer\n",
    "csvWriter = csv.writer(csvFile)\n",
    "\n",
    "for tweet in tweepy.Cursor(api.search,q=\"#Coronavirus\",\n",
    "                           since=start_date,\n",
    "                           until=end_date).items():\n",
    "    content = tweet.text.lower()\n",
    "    total = total + 1\n",
    "    csvWriter.writerow([tweet.created_at, tweet.text.encode('utf-8')])\n",
    "    if(\"china\" in content or \"chinese\" in content):\n",
    "        china = china + 1\n",
    "    if(\"korea\" in content or \"korean\" in content):\n",
    "        korea = korea + 1\n",
    "    if(\"italy\" in content or \"italian\" in content):\n",
    "        italy = italy + 1\n",
    "    if(\"japan\" in content or \"japanese\" in content):\n",
    "        japan = japan + 1\n",
    "    if(\"iran\" in content or \"iranian\" in content):\n",
    "        iran = iran + 1\n",
    "    if(\"singapore\" in content or \"signaporean\" in content):\n",
    "        signapore = singapore + 1\n",
    "    if(\"us\" in content or \"usa\" in content or \"america\" in content or \"american\" in content):\n",
    "        us = us + 1\n",
    "\n",
    "print(total)\n",
    "print(china)\n",
    "print(korea)\n",
    "print(italy)\n",
    "print(japan)\n",
    "print(iran)\n",
    "print(singapore)\n",
    "print(us)"
   ]
  },
  {
   "cell_type": "markdown",
   "metadata": {},
   "source": [
    "### 3/9"
   ]
  },
  {
   "cell_type": "code",
   "execution_count": 4,
   "metadata": {},
   "outputs": [
    {
     "name": "stdout",
     "output_type": "stream",
     "text": [
      "2082\n",
      "304\n",
      "7\n",
      "67\n",
      "2\n",
      "140\n",
      "0\n",
      "1488\n"
     ]
    }
   ],
   "source": [
    "start_date = datetime.datetime(2020, 3, 9, 00, 00, 00)\n",
    "end_date = datetime.datetime(2020, 3, 10, 00, 00, 00)\n",
    "\n",
    "total = 0\n",
    "china = 0\n",
    "korea = 0\n",
    "italy = 0\n",
    "japan = 0\n",
    "iran = 0\n",
    "singapore = 0\n",
    "us = 0\n",
    "\n",
    "# Open/Create a file to append data\n",
    "csvFile = open('03_09.csv', 'a')\n",
    "#Use csv Writer\n",
    "csvWriter = csv.writer(csvFile)\n",
    "\n",
    "for tweet in tweepy.Cursor(api.search,q=\"#Coronavirus\",\n",
    "                           since=start_date,\n",
    "                           until=end_date).items():\n",
    "    content = tweet.text.lower()\n",
    "    total = total + 1\n",
    "    csvWriter.writerow([tweet.created_at, tweet.text.encode('utf-8')])\n",
    "    if(\"china\" in content or \"chinese\" in content):\n",
    "        china = china + 1\n",
    "    if(\"korea\" in content or \"korean\" in content):\n",
    "        korea = korea + 1\n",
    "    if(\"italy\" in content or \"italian\" in content):\n",
    "        italy = italy + 1\n",
    "    if(\"japan\" in content or \"japanese\" in content):\n",
    "        japan = japan + 1\n",
    "    if(\"iran\" in content or \"iranian\" in content):\n",
    "        iran = iran + 1\n",
    "    if(\"singapore\" in content or \"signaporean\" in content):\n",
    "        signapore = singapore + 1\n",
    "    if(\"us\" in content or \"usa\" in content or \"america\" in content or \"american\" in content):\n",
    "        us = us + 1\n",
    "\n",
    "print(total)\n",
    "print(china)\n",
    "print(korea)\n",
    "print(italy)\n",
    "print(japan)\n",
    "print(iran)\n",
    "print(singapore)\n",
    "print(us)"
   ]
  },
  {
   "cell_type": "markdown",
   "metadata": {},
   "source": [
    "### 3/10"
   ]
  },
  {
   "cell_type": "code",
   "execution_count": 9,
   "metadata": {},
   "outputs": [
    {
     "name": "stdout",
     "output_type": "stream",
     "text": [
      "0\n",
      "0\n",
      "0\n",
      "0\n",
      "0\n",
      "0\n",
      "0\n",
      "0\n"
     ]
    }
   ],
   "source": [
    "start_date = datetime.datetime(2020, 3, 10, 00, 00, 00)\n",
    "end_date = datetime.datetime(2020, 3, 11, 00, 00, 00)\n",
    "\n",
    "total = 0\n",
    "china = 0\n",
    "korea = 0\n",
    "italy = 0\n",
    "japan = 0\n",
    "iran = 0\n",
    "singapore = 0\n",
    "us = 0\n",
    "\n",
    "# Open/Create a file to append data\n",
    "csvFile = open('03_10.csv', 'a')\n",
    "#Use csv Writer\n",
    "csvWriter = csv.writer(csvFile)\n",
    "\n",
    "for tweet in tweepy.Cursor(api.search,q=\"#Coronavirus\",\n",
    "                           since=start_date,\n",
    "                           until=end_date).items():\n",
    "    content = tweet.text.lower()\n",
    "    total = total + 1\n",
    "    csvWriter.writerow([tweet.created_at, tweet.text.encode('utf-8')])\n",
    "    if(\"china\" in content or \"chinese\" in content):\n",
    "        china = china + 1\n",
    "    if(\"korea\" in content or \"korean\" in content):\n",
    "        korea = korea + 1\n",
    "    if(\"italy\" in content or \"italian\" in content):\n",
    "        italy = italy + 1\n",
    "    if(\"japan\" in content or \"japanese\" in content):\n",
    "        japan = japan + 1\n",
    "    if(\"iran\" in content or \"iranian\" in content):\n",
    "        iran = iran + 1\n",
    "    if(\"singapore\" in content or \"signaporean\" in content):\n",
    "        signapore = singapore + 1\n",
    "    if(\"us\" in content or \"usa\" in content or \"america\" in content or \"american\" in content):\n",
    "        us = us + 1\n",
    "\n",
    "print(total)\n",
    "print(china)\n",
    "print(korea)\n",
    "print(italy)\n",
    "print(japan)\n",
    "print(iran)\n",
    "print(singapore)\n",
    "print(us)"
   ]
  },
  {
   "cell_type": "markdown",
   "metadata": {},
   "source": [
    "### 3/12"
   ]
  },
  {
   "cell_type": "code",
   "execution_count": 6,
   "metadata": {},
   "outputs": [
    {
     "name": "stdout",
     "output_type": "stream",
     "text": [
      "11370\n",
      "20\n",
      "8\n",
      "35\n",
      "6\n",
      "24\n",
      "0\n",
      "9741\n"
     ]
    }
   ],
   "source": [
    "start_date = datetime.datetime(2020, 3, 12, 00, 00, 00)\n",
    "end_date = datetime.datetime(2020, 3, 13, 00, 00, 00)\n",
    "\n",
    "total = 0\n",
    "china = 0\n",
    "korea = 0\n",
    "italy = 0\n",
    "japan = 0\n",
    "iran = 0\n",
    "singapore = 0\n",
    "us = 0\n",
    "\n",
    "# Open/Create a file to append data\n",
    "csvFile = open('03_12.csv', 'a')\n",
    "#Use csv Writer\n",
    "csvWriter = csv.writer(csvFile)\n",
    "\n",
    "for tweet in tweepy.Cursor(api.search,q=\"#Coronavirus\",\n",
    "                           since=start_date,\n",
    "                           until=end_date).items():\n",
    "    content = tweet.text.lower()\n",
    "    total = total + 1\n",
    "    csvWriter.writerow([tweet.created_at, tweet.text.encode('utf-8')])\n",
    "    if(\"china\" in content or \"chinese\" in content):\n",
    "        china = china + 1\n",
    "    if(\"korea\" in content or \"korean\" in content):\n",
    "        korea = korea + 1\n",
    "    if(\"italy\" in content or \"italian\" in content):\n",
    "        italy = italy + 1\n",
    "    if(\"japan\" in content or \"japanese\" in content):\n",
    "        japan = japan + 1\n",
    "    if(\"iran\" in content or \"iranian\" in content):\n",
    "        iran = iran + 1\n",
    "    if(\"singapore\" in content or \"signaporean\" in content):\n",
    "        signapore = singapore + 1\n",
    "    if(\"us\" in content or \"usa\" in content or \"america\" in content or \"american\" in content):\n",
    "        us = us + 1\n",
    "\n",
    "print(total)\n",
    "print(china)\n",
    "print(korea)\n",
    "print(italy)\n",
    "print(japan)\n",
    "print(iran)\n",
    "print(singapore)\n",
    "print(us)"
   ]
  },
  {
   "cell_type": "markdown",
   "metadata": {},
   "source": [
    "### 3/14 "
   ]
  },
  {
   "cell_type": "code",
   "execution_count": 3,
   "metadata": {},
   "outputs": [
    {
     "name": "stdout",
     "output_type": "stream",
     "text": [
      "9318\n",
      "27\n",
      "18\n",
      "104\n",
      "1\n",
      "39\n",
      "0\n",
      "5887\n"
     ]
    }
   ],
   "source": [
    "start_date = datetime.datetime(2020, 3, 14, 00, 00, 00)\n",
    "end_date = datetime.datetime(2020, 3, 15, 00, 00, 00)\n",
    "\n",
    "total = 0\n",
    "china = 0\n",
    "korea = 0\n",
    "italy = 0\n",
    "japan = 0\n",
    "iran = 0\n",
    "singapore = 0\n",
    "us = 0\n",
    "\n",
    "# Open/Create a file to append data\n",
    "csvFile = open('03_14.csv', 'a')\n",
    "#Use csv Writer\n",
    "csvWriter = csv.writer(csvFile)\n",
    "\n",
    "for tweet in tweepy.Cursor(api.search,q=\"#Coronavirus\",\n",
    "                           since=start_date,\n",
    "                           until=end_date).items():\n",
    "    content = tweet.text.lower()\n",
    "    total = total + 1\n",
    "    csvWriter.writerow([tweet.created_at, tweet.text.encode('utf-8')])\n",
    "    if(\"china\" in content or \"chinese\" in content):\n",
    "        china = china + 1\n",
    "    if(\"korea\" in content or \"korean\" in content):\n",
    "        korea = korea + 1\n",
    "    if(\"italy\" in content or \"italian\" in content):\n",
    "        italy = italy + 1\n",
    "    if(\"japan\" in content or \"japanese\" in content):\n",
    "        japan = japan + 1\n",
    "    if(\"iran\" in content or \"iranian\" in content):\n",
    "        iran = iran + 1\n",
    "    if(\"singapore\" in content or \"signaporean\" in content):\n",
    "        signapore = singapore + 1\n",
    "    if(\"us\" in content or \"usa\" in content or \"america\" in content or \"american\" in content):\n",
    "        us = us + 1\n",
    "\n",
    "print(total)\n",
    "print(china)\n",
    "print(korea)\n",
    "print(italy)\n",
    "print(japan)\n",
    "print(iran)\n",
    "print(singapore)\n",
    "print(us)"
   ]
  },
  {
   "cell_type": "markdown",
   "metadata": {},
   "source": [
    "### 3/15"
   ]
  },
  {
   "cell_type": "code",
   "execution_count": 5,
   "metadata": {},
   "outputs": [
    {
     "ename": "KeyboardInterrupt",
     "evalue": "",
     "output_type": "error",
     "traceback": [
      "\u001b[0;31m---------------------------------------------------------------------------\u001b[0m",
      "\u001b[0;31mKeyboardInterrupt\u001b[0m                         Traceback (most recent call last)",
      "\u001b[0;32m<ipython-input-5-2a94eb667eda>\u001b[0m in \u001b[0;36m<module>\u001b[0;34m\u001b[0m\n\u001b[1;32m     16\u001b[0m \u001b[0mcsvWriter\u001b[0m \u001b[0;34m=\u001b[0m \u001b[0mcsv\u001b[0m\u001b[0;34m.\u001b[0m\u001b[0mwriter\u001b[0m\u001b[0;34m(\u001b[0m\u001b[0mcsvFile\u001b[0m\u001b[0;34m)\u001b[0m\u001b[0;34m\u001b[0m\u001b[0;34m\u001b[0m\u001b[0m\n\u001b[1;32m     17\u001b[0m \u001b[0;34m\u001b[0m\u001b[0m\n\u001b[0;32m---> 18\u001b[0;31m for tweet in tweepy.Cursor(api.search,q=\"#Coronavirus\",\n\u001b[0m\u001b[1;32m     19\u001b[0m                            \u001b[0msince\u001b[0m\u001b[0;34m=\u001b[0m\u001b[0mstart_date\u001b[0m\u001b[0;34m,\u001b[0m\u001b[0;34m\u001b[0m\u001b[0;34m\u001b[0m\u001b[0m\n\u001b[1;32m     20\u001b[0m                            until=end_date).items():\n",
      "\u001b[0;32m/Library/Frameworks/Python.framework/Versions/3.8/lib/python3.8/site-packages/tweepy/cursor.py\u001b[0m in \u001b[0;36m__next__\u001b[0;34m(self)\u001b[0m\n\u001b[1;32m     45\u001b[0m \u001b[0;34m\u001b[0m\u001b[0m\n\u001b[1;32m     46\u001b[0m     \u001b[0;32mdef\u001b[0m \u001b[0m__next__\u001b[0m\u001b[0;34m(\u001b[0m\u001b[0mself\u001b[0m\u001b[0;34m)\u001b[0m\u001b[0;34m:\u001b[0m\u001b[0;34m\u001b[0m\u001b[0;34m\u001b[0m\u001b[0m\n\u001b[0;32m---> 47\u001b[0;31m         \u001b[0;32mreturn\u001b[0m \u001b[0mself\u001b[0m\u001b[0;34m.\u001b[0m\u001b[0mnext\u001b[0m\u001b[0;34m(\u001b[0m\u001b[0;34m)\u001b[0m\u001b[0;34m\u001b[0m\u001b[0;34m\u001b[0m\u001b[0m\n\u001b[0m\u001b[1;32m     48\u001b[0m \u001b[0;34m\u001b[0m\u001b[0m\n\u001b[1;32m     49\u001b[0m     \u001b[0;32mdef\u001b[0m \u001b[0mnext\u001b[0m\u001b[0;34m(\u001b[0m\u001b[0mself\u001b[0m\u001b[0;34m)\u001b[0m\u001b[0;34m:\u001b[0m\u001b[0;34m\u001b[0m\u001b[0;34m\u001b[0m\u001b[0m\n",
      "\u001b[0;32m/Library/Frameworks/Python.framework/Versions/3.8/lib/python3.8/site-packages/tweepy/cursor.py\u001b[0m in \u001b[0;36mnext\u001b[0;34m(self)\u001b[0m\n\u001b[1;32m    193\u001b[0m         \u001b[0;32mif\u001b[0m \u001b[0mself\u001b[0m\u001b[0;34m.\u001b[0m\u001b[0mcurrent_page\u001b[0m \u001b[0;32mis\u001b[0m \u001b[0;32mNone\u001b[0m \u001b[0;32mor\u001b[0m \u001b[0mself\u001b[0m\u001b[0;34m.\u001b[0m\u001b[0mpage_index\u001b[0m \u001b[0;34m==\u001b[0m \u001b[0mlen\u001b[0m\u001b[0;34m(\u001b[0m\u001b[0mself\u001b[0m\u001b[0;34m.\u001b[0m\u001b[0mcurrent_page\u001b[0m\u001b[0;34m)\u001b[0m \u001b[0;34m-\u001b[0m \u001b[0;36m1\u001b[0m\u001b[0;34m:\u001b[0m\u001b[0;34m\u001b[0m\u001b[0;34m\u001b[0m\u001b[0m\n\u001b[1;32m    194\u001b[0m             \u001b[0;31m# Reached end of current page, get the next page...\u001b[0m\u001b[0;34m\u001b[0m\u001b[0;34m\u001b[0m\u001b[0;34m\u001b[0m\u001b[0m\n\u001b[0;32m--> 195\u001b[0;31m             \u001b[0mself\u001b[0m\u001b[0;34m.\u001b[0m\u001b[0mcurrent_page\u001b[0m \u001b[0;34m=\u001b[0m \u001b[0mself\u001b[0m\u001b[0;34m.\u001b[0m\u001b[0mpage_iterator\u001b[0m\u001b[0;34m.\u001b[0m\u001b[0mnext\u001b[0m\u001b[0;34m(\u001b[0m\u001b[0;34m)\u001b[0m\u001b[0;34m\u001b[0m\u001b[0;34m\u001b[0m\u001b[0m\n\u001b[0m\u001b[1;32m    196\u001b[0m             \u001b[0mself\u001b[0m\u001b[0;34m.\u001b[0m\u001b[0mpage_index\u001b[0m \u001b[0;34m=\u001b[0m \u001b[0;34m-\u001b[0m\u001b[0;36m1\u001b[0m\u001b[0;34m\u001b[0m\u001b[0;34m\u001b[0m\u001b[0m\n\u001b[1;32m    197\u001b[0m         \u001b[0mself\u001b[0m\u001b[0;34m.\u001b[0m\u001b[0mpage_index\u001b[0m \u001b[0;34m+=\u001b[0m \u001b[0;36m1\u001b[0m\u001b[0;34m\u001b[0m\u001b[0;34m\u001b[0m\u001b[0m\n",
      "\u001b[0;32m/Library/Frameworks/Python.framework/Versions/3.8/lib/python3.8/site-packages/tweepy/cursor.py\u001b[0m in \u001b[0;36mnext\u001b[0;34m(self)\u001b[0m\n\u001b[1;32m    104\u001b[0m \u001b[0;34m\u001b[0m\u001b[0m\n\u001b[1;32m    105\u001b[0m         \u001b[0;32mif\u001b[0m \u001b[0mself\u001b[0m\u001b[0;34m.\u001b[0m\u001b[0mindex\u001b[0m \u001b[0;34m>=\u001b[0m \u001b[0mlen\u001b[0m\u001b[0;34m(\u001b[0m\u001b[0mself\u001b[0m\u001b[0;34m.\u001b[0m\u001b[0mresults\u001b[0m\u001b[0;34m)\u001b[0m \u001b[0;34m-\u001b[0m \u001b[0;36m1\u001b[0m\u001b[0;34m:\u001b[0m\u001b[0;34m\u001b[0m\u001b[0;34m\u001b[0m\u001b[0m\n\u001b[0;32m--> 106\u001b[0;31m             \u001b[0mdata\u001b[0m \u001b[0;34m=\u001b[0m \u001b[0mself\u001b[0m\u001b[0;34m.\u001b[0m\u001b[0mmethod\u001b[0m\u001b[0;34m(\u001b[0m\u001b[0mmax_id\u001b[0m\u001b[0;34m=\u001b[0m\u001b[0mself\u001b[0m\u001b[0;34m.\u001b[0m\u001b[0mmax_id\u001b[0m\u001b[0;34m,\u001b[0m \u001b[0mparser\u001b[0m\u001b[0;34m=\u001b[0m\u001b[0mRawParser\u001b[0m\u001b[0;34m(\u001b[0m\u001b[0;34m)\u001b[0m\u001b[0;34m,\u001b[0m \u001b[0;34m*\u001b[0m\u001b[0mself\u001b[0m\u001b[0;34m.\u001b[0m\u001b[0margs\u001b[0m\u001b[0;34m,\u001b[0m \u001b[0;34m**\u001b[0m\u001b[0mself\u001b[0m\u001b[0;34m.\u001b[0m\u001b[0mkargs\u001b[0m\u001b[0;34m)\u001b[0m\u001b[0;34m\u001b[0m\u001b[0;34m\u001b[0m\u001b[0m\n\u001b[0m\u001b[1;32m    107\u001b[0m \u001b[0;34m\u001b[0m\u001b[0m\n\u001b[1;32m    108\u001b[0m             \u001b[0;32mif\u001b[0m \u001b[0mhasattr\u001b[0m\u001b[0;34m(\u001b[0m\u001b[0mself\u001b[0m\u001b[0;34m.\u001b[0m\u001b[0mmethod\u001b[0m\u001b[0;34m,\u001b[0m \u001b[0;34m'__self__'\u001b[0m\u001b[0;34m)\u001b[0m\u001b[0;34m:\u001b[0m\u001b[0;34m\u001b[0m\u001b[0;34m\u001b[0m\u001b[0m\n",
      "\u001b[0;32m/Library/Frameworks/Python.framework/Versions/3.8/lib/python3.8/site-packages/tweepy/binder.py\u001b[0m in \u001b[0;36m_call\u001b[0;34m(*args, **kwargs)\u001b[0m\n\u001b[1;32m    248\u001b[0m                 \u001b[0;32mreturn\u001b[0m \u001b[0mmethod\u001b[0m\u001b[0;34m\u001b[0m\u001b[0;34m\u001b[0m\u001b[0m\n\u001b[1;32m    249\u001b[0m             \u001b[0;32melse\u001b[0m\u001b[0;34m:\u001b[0m\u001b[0;34m\u001b[0m\u001b[0;34m\u001b[0m\u001b[0m\n\u001b[0;32m--> 250\u001b[0;31m                 \u001b[0;32mreturn\u001b[0m \u001b[0mmethod\u001b[0m\u001b[0;34m.\u001b[0m\u001b[0mexecute\u001b[0m\u001b[0;34m(\u001b[0m\u001b[0;34m)\u001b[0m\u001b[0;34m\u001b[0m\u001b[0;34m\u001b[0m\u001b[0m\n\u001b[0m\u001b[1;32m    251\u001b[0m         \u001b[0;32mfinally\u001b[0m\u001b[0;34m:\u001b[0m\u001b[0;34m\u001b[0m\u001b[0;34m\u001b[0m\u001b[0m\n\u001b[1;32m    252\u001b[0m             \u001b[0mmethod\u001b[0m\u001b[0;34m.\u001b[0m\u001b[0msession\u001b[0m\u001b[0;34m.\u001b[0m\u001b[0mclose\u001b[0m\u001b[0;34m(\u001b[0m\u001b[0;34m)\u001b[0m\u001b[0;34m\u001b[0m\u001b[0;34m\u001b[0m\u001b[0m\n",
      "\u001b[0;32m/Library/Frameworks/Python.framework/Versions/3.8/lib/python3.8/site-packages/tweepy/binder.py\u001b[0m in \u001b[0;36mexecute\u001b[0;34m(self)\u001b[0m\n\u001b[1;32m    181\u001b[0m                 \u001b[0;31m# Execute request\u001b[0m\u001b[0;34m\u001b[0m\u001b[0;34m\u001b[0m\u001b[0;34m\u001b[0m\u001b[0m\n\u001b[1;32m    182\u001b[0m                 \u001b[0;32mtry\u001b[0m\u001b[0;34m:\u001b[0m\u001b[0;34m\u001b[0m\u001b[0;34m\u001b[0m\u001b[0m\n\u001b[0;32m--> 183\u001b[0;31m                     resp = self.session.request(self.method,\n\u001b[0m\u001b[1;32m    184\u001b[0m                                                 \u001b[0mfull_url\u001b[0m\u001b[0;34m,\u001b[0m\u001b[0;34m\u001b[0m\u001b[0;34m\u001b[0m\u001b[0m\n\u001b[1;32m    185\u001b[0m                                                 \u001b[0mdata\u001b[0m\u001b[0;34m=\u001b[0m\u001b[0mself\u001b[0m\u001b[0;34m.\u001b[0m\u001b[0mpost_data\u001b[0m\u001b[0;34m,\u001b[0m\u001b[0;34m\u001b[0m\u001b[0;34m\u001b[0m\u001b[0m\n",
      "\u001b[0;32m/Library/Frameworks/Python.framework/Versions/3.8/lib/python3.8/site-packages/requests/sessions.py\u001b[0m in \u001b[0;36mrequest\u001b[0;34m(self, method, url, params, data, headers, cookies, files, auth, timeout, allow_redirects, proxies, hooks, stream, verify, cert, json)\u001b[0m\n\u001b[1;32m    531\u001b[0m         }\n\u001b[1;32m    532\u001b[0m         \u001b[0msend_kwargs\u001b[0m\u001b[0;34m.\u001b[0m\u001b[0mupdate\u001b[0m\u001b[0;34m(\u001b[0m\u001b[0msettings\u001b[0m\u001b[0;34m)\u001b[0m\u001b[0;34m\u001b[0m\u001b[0;34m\u001b[0m\u001b[0m\n\u001b[0;32m--> 533\u001b[0;31m         \u001b[0mresp\u001b[0m \u001b[0;34m=\u001b[0m \u001b[0mself\u001b[0m\u001b[0;34m.\u001b[0m\u001b[0msend\u001b[0m\u001b[0;34m(\u001b[0m\u001b[0mprep\u001b[0m\u001b[0;34m,\u001b[0m \u001b[0;34m**\u001b[0m\u001b[0msend_kwargs\u001b[0m\u001b[0;34m)\u001b[0m\u001b[0;34m\u001b[0m\u001b[0;34m\u001b[0m\u001b[0m\n\u001b[0m\u001b[1;32m    534\u001b[0m \u001b[0;34m\u001b[0m\u001b[0m\n\u001b[1;32m    535\u001b[0m         \u001b[0;32mreturn\u001b[0m \u001b[0mresp\u001b[0m\u001b[0;34m\u001b[0m\u001b[0;34m\u001b[0m\u001b[0m\n",
      "\u001b[0;32m/Library/Frameworks/Python.framework/Versions/3.8/lib/python3.8/site-packages/requests/sessions.py\u001b[0m in \u001b[0;36msend\u001b[0;34m(self, request, **kwargs)\u001b[0m\n\u001b[1;32m    644\u001b[0m \u001b[0;34m\u001b[0m\u001b[0m\n\u001b[1;32m    645\u001b[0m         \u001b[0;31m# Send the request\u001b[0m\u001b[0;34m\u001b[0m\u001b[0;34m\u001b[0m\u001b[0;34m\u001b[0m\u001b[0m\n\u001b[0;32m--> 646\u001b[0;31m         \u001b[0mr\u001b[0m \u001b[0;34m=\u001b[0m \u001b[0madapter\u001b[0m\u001b[0;34m.\u001b[0m\u001b[0msend\u001b[0m\u001b[0;34m(\u001b[0m\u001b[0mrequest\u001b[0m\u001b[0;34m,\u001b[0m \u001b[0;34m**\u001b[0m\u001b[0mkwargs\u001b[0m\u001b[0;34m)\u001b[0m\u001b[0;34m\u001b[0m\u001b[0;34m\u001b[0m\u001b[0m\n\u001b[0m\u001b[1;32m    647\u001b[0m \u001b[0;34m\u001b[0m\u001b[0m\n\u001b[1;32m    648\u001b[0m         \u001b[0;31m# Total elapsed time of the request (approximately)\u001b[0m\u001b[0;34m\u001b[0m\u001b[0;34m\u001b[0m\u001b[0;34m\u001b[0m\u001b[0m\n",
      "\u001b[0;32m/Library/Frameworks/Python.framework/Versions/3.8/lib/python3.8/site-packages/requests/adapters.py\u001b[0m in \u001b[0;36msend\u001b[0;34m(self, request, stream, timeout, verify, cert, proxies)\u001b[0m\n\u001b[1;32m    437\u001b[0m         \u001b[0;32mtry\u001b[0m\u001b[0;34m:\u001b[0m\u001b[0;34m\u001b[0m\u001b[0;34m\u001b[0m\u001b[0m\n\u001b[1;32m    438\u001b[0m             \u001b[0;32mif\u001b[0m \u001b[0;32mnot\u001b[0m \u001b[0mchunked\u001b[0m\u001b[0;34m:\u001b[0m\u001b[0;34m\u001b[0m\u001b[0;34m\u001b[0m\u001b[0m\n\u001b[0;32m--> 439\u001b[0;31m                 resp = conn.urlopen(\n\u001b[0m\u001b[1;32m    440\u001b[0m                     \u001b[0mmethod\u001b[0m\u001b[0;34m=\u001b[0m\u001b[0mrequest\u001b[0m\u001b[0;34m.\u001b[0m\u001b[0mmethod\u001b[0m\u001b[0;34m,\u001b[0m\u001b[0;34m\u001b[0m\u001b[0;34m\u001b[0m\u001b[0m\n\u001b[1;32m    441\u001b[0m                     \u001b[0murl\u001b[0m\u001b[0;34m=\u001b[0m\u001b[0murl\u001b[0m\u001b[0;34m,\u001b[0m\u001b[0;34m\u001b[0m\u001b[0;34m\u001b[0m\u001b[0m\n",
      "\u001b[0;32m/Library/Frameworks/Python.framework/Versions/3.8/lib/python3.8/site-packages/urllib3/connectionpool.py\u001b[0m in \u001b[0;36murlopen\u001b[0;34m(self, method, url, body, headers, retries, redirect, assert_same_host, timeout, pool_timeout, release_conn, chunked, body_pos, **response_kw)\u001b[0m\n\u001b[1;32m    663\u001b[0m \u001b[0;34m\u001b[0m\u001b[0m\n\u001b[1;32m    664\u001b[0m             \u001b[0;31m# Make the request on the httplib connection object.\u001b[0m\u001b[0;34m\u001b[0m\u001b[0;34m\u001b[0m\u001b[0;34m\u001b[0m\u001b[0m\n\u001b[0;32m--> 665\u001b[0;31m             httplib_response = self._make_request(\n\u001b[0m\u001b[1;32m    666\u001b[0m                 \u001b[0mconn\u001b[0m\u001b[0;34m,\u001b[0m\u001b[0;34m\u001b[0m\u001b[0;34m\u001b[0m\u001b[0m\n\u001b[1;32m    667\u001b[0m                 \u001b[0mmethod\u001b[0m\u001b[0;34m,\u001b[0m\u001b[0;34m\u001b[0m\u001b[0;34m\u001b[0m\u001b[0m\n",
      "\u001b[0;32m/Library/Frameworks/Python.framework/Versions/3.8/lib/python3.8/site-packages/urllib3/connectionpool.py\u001b[0m in \u001b[0;36m_make_request\u001b[0;34m(self, conn, method, url, timeout, chunked, **httplib_request_kw)\u001b[0m\n\u001b[1;32m    419\u001b[0m                     \u001b[0;31m# Python 3 (including for exceptions like SystemExit).\u001b[0m\u001b[0;34m\u001b[0m\u001b[0;34m\u001b[0m\u001b[0;34m\u001b[0m\u001b[0m\n\u001b[1;32m    420\u001b[0m                     \u001b[0;31m# Otherwise it looks like a bug in the code.\u001b[0m\u001b[0;34m\u001b[0m\u001b[0;34m\u001b[0m\u001b[0;34m\u001b[0m\u001b[0m\n\u001b[0;32m--> 421\u001b[0;31m                     \u001b[0msix\u001b[0m\u001b[0;34m.\u001b[0m\u001b[0mraise_from\u001b[0m\u001b[0;34m(\u001b[0m\u001b[0me\u001b[0m\u001b[0;34m,\u001b[0m \u001b[0;32mNone\u001b[0m\u001b[0;34m)\u001b[0m\u001b[0;34m\u001b[0m\u001b[0;34m\u001b[0m\u001b[0m\n\u001b[0m\u001b[1;32m    422\u001b[0m         \u001b[0;32mexcept\u001b[0m \u001b[0;34m(\u001b[0m\u001b[0mSocketTimeout\u001b[0m\u001b[0;34m,\u001b[0m \u001b[0mBaseSSLError\u001b[0m\u001b[0;34m,\u001b[0m \u001b[0mSocketError\u001b[0m\u001b[0;34m)\u001b[0m \u001b[0;32mas\u001b[0m \u001b[0me\u001b[0m\u001b[0;34m:\u001b[0m\u001b[0;34m\u001b[0m\u001b[0;34m\u001b[0m\u001b[0m\n\u001b[1;32m    423\u001b[0m             \u001b[0mself\u001b[0m\u001b[0;34m.\u001b[0m\u001b[0m_raise_timeout\u001b[0m\u001b[0;34m(\u001b[0m\u001b[0merr\u001b[0m\u001b[0;34m=\u001b[0m\u001b[0me\u001b[0m\u001b[0;34m,\u001b[0m \u001b[0murl\u001b[0m\u001b[0;34m=\u001b[0m\u001b[0murl\u001b[0m\u001b[0;34m,\u001b[0m \u001b[0mtimeout_value\u001b[0m\u001b[0;34m=\u001b[0m\u001b[0mread_timeout\u001b[0m\u001b[0;34m)\u001b[0m\u001b[0;34m\u001b[0m\u001b[0;34m\u001b[0m\u001b[0m\n",
      "\u001b[0;32m/Library/Frameworks/Python.framework/Versions/3.8/lib/python3.8/site-packages/urllib3/packages/six.py\u001b[0m in \u001b[0;36mraise_from\u001b[0;34m(value, from_value)\u001b[0m\n",
      "\u001b[0;32m/Library/Frameworks/Python.framework/Versions/3.8/lib/python3.8/site-packages/urllib3/connectionpool.py\u001b[0m in \u001b[0;36m_make_request\u001b[0;34m(self, conn, method, url, timeout, chunked, **httplib_request_kw)\u001b[0m\n\u001b[1;32m    414\u001b[0m                 \u001b[0;31m# Python 3\u001b[0m\u001b[0;34m\u001b[0m\u001b[0;34m\u001b[0m\u001b[0;34m\u001b[0m\u001b[0m\n\u001b[1;32m    415\u001b[0m                 \u001b[0;32mtry\u001b[0m\u001b[0;34m:\u001b[0m\u001b[0;34m\u001b[0m\u001b[0;34m\u001b[0m\u001b[0m\n\u001b[0;32m--> 416\u001b[0;31m                     \u001b[0mhttplib_response\u001b[0m \u001b[0;34m=\u001b[0m \u001b[0mconn\u001b[0m\u001b[0;34m.\u001b[0m\u001b[0mgetresponse\u001b[0m\u001b[0;34m(\u001b[0m\u001b[0;34m)\u001b[0m\u001b[0;34m\u001b[0m\u001b[0;34m\u001b[0m\u001b[0m\n\u001b[0m\u001b[1;32m    417\u001b[0m                 \u001b[0;32mexcept\u001b[0m \u001b[0mBaseException\u001b[0m \u001b[0;32mas\u001b[0m \u001b[0me\u001b[0m\u001b[0;34m:\u001b[0m\u001b[0;34m\u001b[0m\u001b[0;34m\u001b[0m\u001b[0m\n\u001b[1;32m    418\u001b[0m                     \u001b[0;31m# Remove the TypeError from the exception chain in\u001b[0m\u001b[0;34m\u001b[0m\u001b[0;34m\u001b[0m\u001b[0;34m\u001b[0m\u001b[0m\n",
      "\u001b[0;32m/Library/Frameworks/Python.framework/Versions/3.8/lib/python3.8/http/client.py\u001b[0m in \u001b[0;36mgetresponse\u001b[0;34m(self)\u001b[0m\n\u001b[1;32m   1320\u001b[0m         \u001b[0;32mtry\u001b[0m\u001b[0;34m:\u001b[0m\u001b[0;34m\u001b[0m\u001b[0;34m\u001b[0m\u001b[0m\n\u001b[1;32m   1321\u001b[0m             \u001b[0;32mtry\u001b[0m\u001b[0;34m:\u001b[0m\u001b[0;34m\u001b[0m\u001b[0;34m\u001b[0m\u001b[0m\n\u001b[0;32m-> 1322\u001b[0;31m                 \u001b[0mresponse\u001b[0m\u001b[0;34m.\u001b[0m\u001b[0mbegin\u001b[0m\u001b[0;34m(\u001b[0m\u001b[0;34m)\u001b[0m\u001b[0;34m\u001b[0m\u001b[0;34m\u001b[0m\u001b[0m\n\u001b[0m\u001b[1;32m   1323\u001b[0m             \u001b[0;32mexcept\u001b[0m \u001b[0mConnectionError\u001b[0m\u001b[0;34m:\u001b[0m\u001b[0;34m\u001b[0m\u001b[0;34m\u001b[0m\u001b[0m\n\u001b[1;32m   1324\u001b[0m                 \u001b[0mself\u001b[0m\u001b[0;34m.\u001b[0m\u001b[0mclose\u001b[0m\u001b[0;34m(\u001b[0m\u001b[0;34m)\u001b[0m\u001b[0;34m\u001b[0m\u001b[0;34m\u001b[0m\u001b[0m\n",
      "\u001b[0;32m/Library/Frameworks/Python.framework/Versions/3.8/lib/python3.8/http/client.py\u001b[0m in \u001b[0;36mbegin\u001b[0;34m(self)\u001b[0m\n\u001b[1;32m    301\u001b[0m         \u001b[0;31m# read until we get a non-100 response\u001b[0m\u001b[0;34m\u001b[0m\u001b[0;34m\u001b[0m\u001b[0;34m\u001b[0m\u001b[0m\n\u001b[1;32m    302\u001b[0m         \u001b[0;32mwhile\u001b[0m \u001b[0;32mTrue\u001b[0m\u001b[0;34m:\u001b[0m\u001b[0;34m\u001b[0m\u001b[0;34m\u001b[0m\u001b[0m\n\u001b[0;32m--> 303\u001b[0;31m             \u001b[0mversion\u001b[0m\u001b[0;34m,\u001b[0m \u001b[0mstatus\u001b[0m\u001b[0;34m,\u001b[0m \u001b[0mreason\u001b[0m \u001b[0;34m=\u001b[0m \u001b[0mself\u001b[0m\u001b[0;34m.\u001b[0m\u001b[0m_read_status\u001b[0m\u001b[0;34m(\u001b[0m\u001b[0;34m)\u001b[0m\u001b[0;34m\u001b[0m\u001b[0;34m\u001b[0m\u001b[0m\n\u001b[0m\u001b[1;32m    304\u001b[0m             \u001b[0;32mif\u001b[0m \u001b[0mstatus\u001b[0m \u001b[0;34m!=\u001b[0m \u001b[0mCONTINUE\u001b[0m\u001b[0;34m:\u001b[0m\u001b[0;34m\u001b[0m\u001b[0;34m\u001b[0m\u001b[0m\n\u001b[1;32m    305\u001b[0m                 \u001b[0;32mbreak\u001b[0m\u001b[0;34m\u001b[0m\u001b[0;34m\u001b[0m\u001b[0m\n",
      "\u001b[0;32m/Library/Frameworks/Python.framework/Versions/3.8/lib/python3.8/http/client.py\u001b[0m in \u001b[0;36m_read_status\u001b[0;34m(self)\u001b[0m\n\u001b[1;32m    262\u001b[0m \u001b[0;34m\u001b[0m\u001b[0m\n\u001b[1;32m    263\u001b[0m     \u001b[0;32mdef\u001b[0m \u001b[0m_read_status\u001b[0m\u001b[0;34m(\u001b[0m\u001b[0mself\u001b[0m\u001b[0;34m)\u001b[0m\u001b[0;34m:\u001b[0m\u001b[0;34m\u001b[0m\u001b[0;34m\u001b[0m\u001b[0m\n\u001b[0;32m--> 264\u001b[0;31m         \u001b[0mline\u001b[0m \u001b[0;34m=\u001b[0m \u001b[0mstr\u001b[0m\u001b[0;34m(\u001b[0m\u001b[0mself\u001b[0m\u001b[0;34m.\u001b[0m\u001b[0mfp\u001b[0m\u001b[0;34m.\u001b[0m\u001b[0mreadline\u001b[0m\u001b[0;34m(\u001b[0m\u001b[0m_MAXLINE\u001b[0m \u001b[0;34m+\u001b[0m \u001b[0;36m1\u001b[0m\u001b[0;34m)\u001b[0m\u001b[0;34m,\u001b[0m \u001b[0;34m\"iso-8859-1\"\u001b[0m\u001b[0;34m)\u001b[0m\u001b[0;34m\u001b[0m\u001b[0;34m\u001b[0m\u001b[0m\n\u001b[0m\u001b[1;32m    265\u001b[0m         \u001b[0;32mif\u001b[0m \u001b[0mlen\u001b[0m\u001b[0;34m(\u001b[0m\u001b[0mline\u001b[0m\u001b[0;34m)\u001b[0m \u001b[0;34m>\u001b[0m \u001b[0m_MAXLINE\u001b[0m\u001b[0;34m:\u001b[0m\u001b[0;34m\u001b[0m\u001b[0;34m\u001b[0m\u001b[0m\n\u001b[1;32m    266\u001b[0m             \u001b[0;32mraise\u001b[0m \u001b[0mLineTooLong\u001b[0m\u001b[0;34m(\u001b[0m\u001b[0;34m\"status line\"\u001b[0m\u001b[0;34m)\u001b[0m\u001b[0;34m\u001b[0m\u001b[0;34m\u001b[0m\u001b[0m\n",
      "\u001b[0;32m/Library/Frameworks/Python.framework/Versions/3.8/lib/python3.8/socket.py\u001b[0m in \u001b[0;36mreadinto\u001b[0;34m(self, b)\u001b[0m\n\u001b[1;32m    667\u001b[0m         \u001b[0;32mwhile\u001b[0m \u001b[0;32mTrue\u001b[0m\u001b[0;34m:\u001b[0m\u001b[0;34m\u001b[0m\u001b[0;34m\u001b[0m\u001b[0m\n\u001b[1;32m    668\u001b[0m             \u001b[0;32mtry\u001b[0m\u001b[0;34m:\u001b[0m\u001b[0;34m\u001b[0m\u001b[0;34m\u001b[0m\u001b[0m\n\u001b[0;32m--> 669\u001b[0;31m                 \u001b[0;32mreturn\u001b[0m \u001b[0mself\u001b[0m\u001b[0;34m.\u001b[0m\u001b[0m_sock\u001b[0m\u001b[0;34m.\u001b[0m\u001b[0mrecv_into\u001b[0m\u001b[0;34m(\u001b[0m\u001b[0mb\u001b[0m\u001b[0;34m)\u001b[0m\u001b[0;34m\u001b[0m\u001b[0;34m\u001b[0m\u001b[0m\n\u001b[0m\u001b[1;32m    670\u001b[0m             \u001b[0;32mexcept\u001b[0m \u001b[0mtimeout\u001b[0m\u001b[0;34m:\u001b[0m\u001b[0;34m\u001b[0m\u001b[0;34m\u001b[0m\u001b[0m\n\u001b[1;32m    671\u001b[0m                 \u001b[0mself\u001b[0m\u001b[0;34m.\u001b[0m\u001b[0m_timeout_occurred\u001b[0m \u001b[0;34m=\u001b[0m \u001b[0;32mTrue\u001b[0m\u001b[0;34m\u001b[0m\u001b[0;34m\u001b[0m\u001b[0m\n",
      "\u001b[0;32m/Library/Frameworks/Python.framework/Versions/3.8/lib/python3.8/ssl.py\u001b[0m in \u001b[0;36mrecv_into\u001b[0;34m(self, buffer, nbytes, flags)\u001b[0m\n\u001b[1;32m   1239\u001b[0m                   \u001b[0;34m\"non-zero flags not allowed in calls to recv_into() on %s\"\u001b[0m \u001b[0;34m%\u001b[0m\u001b[0;34m\u001b[0m\u001b[0;34m\u001b[0m\u001b[0m\n\u001b[1;32m   1240\u001b[0m                   self.__class__)\n\u001b[0;32m-> 1241\u001b[0;31m             \u001b[0;32mreturn\u001b[0m \u001b[0mself\u001b[0m\u001b[0;34m.\u001b[0m\u001b[0mread\u001b[0m\u001b[0;34m(\u001b[0m\u001b[0mnbytes\u001b[0m\u001b[0;34m,\u001b[0m \u001b[0mbuffer\u001b[0m\u001b[0;34m)\u001b[0m\u001b[0;34m\u001b[0m\u001b[0;34m\u001b[0m\u001b[0m\n\u001b[0m\u001b[1;32m   1242\u001b[0m         \u001b[0;32melse\u001b[0m\u001b[0;34m:\u001b[0m\u001b[0;34m\u001b[0m\u001b[0;34m\u001b[0m\u001b[0m\n\u001b[1;32m   1243\u001b[0m             \u001b[0;32mreturn\u001b[0m \u001b[0msuper\u001b[0m\u001b[0;34m(\u001b[0m\u001b[0;34m)\u001b[0m\u001b[0;34m.\u001b[0m\u001b[0mrecv_into\u001b[0m\u001b[0;34m(\u001b[0m\u001b[0mbuffer\u001b[0m\u001b[0;34m,\u001b[0m \u001b[0mnbytes\u001b[0m\u001b[0;34m,\u001b[0m \u001b[0mflags\u001b[0m\u001b[0;34m)\u001b[0m\u001b[0;34m\u001b[0m\u001b[0;34m\u001b[0m\u001b[0m\n",
      "\u001b[0;32m/Library/Frameworks/Python.framework/Versions/3.8/lib/python3.8/ssl.py\u001b[0m in \u001b[0;36mread\u001b[0;34m(self, len, buffer)\u001b[0m\n\u001b[1;32m   1097\u001b[0m         \u001b[0;32mtry\u001b[0m\u001b[0;34m:\u001b[0m\u001b[0;34m\u001b[0m\u001b[0;34m\u001b[0m\u001b[0m\n\u001b[1;32m   1098\u001b[0m             \u001b[0;32mif\u001b[0m \u001b[0mbuffer\u001b[0m \u001b[0;32mis\u001b[0m \u001b[0;32mnot\u001b[0m \u001b[0;32mNone\u001b[0m\u001b[0;34m:\u001b[0m\u001b[0;34m\u001b[0m\u001b[0;34m\u001b[0m\u001b[0m\n\u001b[0;32m-> 1099\u001b[0;31m                 \u001b[0;32mreturn\u001b[0m \u001b[0mself\u001b[0m\u001b[0;34m.\u001b[0m\u001b[0m_sslobj\u001b[0m\u001b[0;34m.\u001b[0m\u001b[0mread\u001b[0m\u001b[0;34m(\u001b[0m\u001b[0mlen\u001b[0m\u001b[0;34m,\u001b[0m \u001b[0mbuffer\u001b[0m\u001b[0;34m)\u001b[0m\u001b[0;34m\u001b[0m\u001b[0;34m\u001b[0m\u001b[0m\n\u001b[0m\u001b[1;32m   1100\u001b[0m             \u001b[0;32melse\u001b[0m\u001b[0;34m:\u001b[0m\u001b[0;34m\u001b[0m\u001b[0;34m\u001b[0m\u001b[0m\n\u001b[1;32m   1101\u001b[0m                 \u001b[0;32mreturn\u001b[0m \u001b[0mself\u001b[0m\u001b[0;34m.\u001b[0m\u001b[0m_sslobj\u001b[0m\u001b[0;34m.\u001b[0m\u001b[0mread\u001b[0m\u001b[0;34m(\u001b[0m\u001b[0mlen\u001b[0m\u001b[0;34m)\u001b[0m\u001b[0;34m\u001b[0m\u001b[0;34m\u001b[0m\u001b[0m\n",
      "\u001b[0;31mKeyboardInterrupt\u001b[0m: "
     ]
    }
   ],
   "source": [
    "start_date = datetime.datetime(2020, 3, 15, 00, 00, 00)\n",
    "end_date = datetime.datetime(2020, 3, 16, 00, 00, 00)\n",
    "\n",
    "total = 0\n",
    "china = 0\n",
    "korea = 0\n",
    "italy = 0\n",
    "japan = 0\n",
    "iran = 0\n",
    "singapore = 0\n",
    "us = 0\n",
    "\n",
    "# Open/Create a file to append data\n",
    "csvFile = open('03_15.csv', 'a')\n",
    "#Use csv Writer\n",
    "csvWriter = csv.writer(csvFile)\n",
    "\n",
    "for tweet in tweepy.Cursor(api.search,q=\"#Coronavirus\",\n",
    "                           since=start_date,\n",
    "                           until=end_date).items():\n",
    "    content = tweet.text.lower()\n",
    "    total = total + 1\n",
    "    csvWriter.writerow([tweet.created_at, tweet.text.encode('utf-8')])\n",
    "    if(\"china\" in content or \"chinese\" in content):\n",
    "        china = china + 1\n",
    "    if(\"korea\" in content or \"korean\" in content):\n",
    "        korea = korea + 1\n",
    "    if(\"italy\" in content or \"italian\" in content):\n",
    "        italy = italy + 1\n",
    "    if(\"japan\" in content or \"japanese\" in content):\n",
    "        japan = japan + 1\n",
    "    if(\"iran\" in content or \"iranian\" in content):\n",
    "        iran = iran + 1\n",
    "    if(\"singapore\" in content or \"signaporean\" in content):\n",
    "        signapore = singapore + 1\n",
    "    if(\"us\" in content or \"usa\" in content or \"america\" in content or \"american\" in content):\n",
    "        us = us + 1\n",
    "\n",
    "print(total)\n",
    "print(china)\n",
    "print(korea)\n",
    "print(italy)\n",
    "print(japan)\n",
    "print(iran)\n",
    "print(singapore)\n",
    "print(us)"
   ]
  },
  {
   "cell_type": "markdown",
   "metadata": {},
   "source": [
    "### 03/16"
   ]
  },
  {
   "cell_type": "code",
   "execution_count": 1,
   "metadata": {},
   "outputs": [
    {
     "ename": "NameError",
     "evalue": "name 'datetime' is not defined",
     "output_type": "error",
     "traceback": [
      "\u001b[0;31m---------------------------------------------------------------------------\u001b[0m",
      "\u001b[0;31mNameError\u001b[0m                                 Traceback (most recent call last)",
      "\u001b[0;32m<ipython-input-1-e6964bdf7639>\u001b[0m in \u001b[0;36m<module>\u001b[0;34m\u001b[0m\n\u001b[0;32m----> 1\u001b[0;31m \u001b[0mstart_date\u001b[0m \u001b[0;34m=\u001b[0m \u001b[0mdatetime\u001b[0m\u001b[0;34m.\u001b[0m\u001b[0mdatetime\u001b[0m\u001b[0;34m(\u001b[0m\u001b[0;36m2020\u001b[0m\u001b[0;34m,\u001b[0m \u001b[0;36m3\u001b[0m\u001b[0;34m,\u001b[0m \u001b[0;36m16\u001b[0m\u001b[0;34m,\u001b[0m \u001b[0;36m00\u001b[0m\u001b[0;34m,\u001b[0m \u001b[0;36m00\u001b[0m\u001b[0;34m,\u001b[0m \u001b[0;36m00\u001b[0m\u001b[0;34m)\u001b[0m\u001b[0;34m\u001b[0m\u001b[0;34m\u001b[0m\u001b[0m\n\u001b[0m\u001b[1;32m      2\u001b[0m \u001b[0mend_date\u001b[0m \u001b[0;34m=\u001b[0m \u001b[0mdatetime\u001b[0m\u001b[0;34m.\u001b[0m\u001b[0mdatetime\u001b[0m\u001b[0;34m(\u001b[0m\u001b[0;36m2020\u001b[0m\u001b[0;34m,\u001b[0m \u001b[0;36m3\u001b[0m\u001b[0;34m,\u001b[0m \u001b[0;36m17\u001b[0m\u001b[0;34m,\u001b[0m \u001b[0;36m00\u001b[0m\u001b[0;34m,\u001b[0m \u001b[0;36m00\u001b[0m\u001b[0;34m,\u001b[0m \u001b[0;36m00\u001b[0m\u001b[0;34m)\u001b[0m\u001b[0;34m\u001b[0m\u001b[0;34m\u001b[0m\u001b[0m\n\u001b[1;32m      3\u001b[0m \u001b[0;34m\u001b[0m\u001b[0m\n\u001b[1;32m      4\u001b[0m \u001b[0mtotal\u001b[0m \u001b[0;34m=\u001b[0m \u001b[0;36m0\u001b[0m\u001b[0;34m\u001b[0m\u001b[0;34m\u001b[0m\u001b[0m\n\u001b[1;32m      5\u001b[0m \u001b[0mchina\u001b[0m \u001b[0;34m=\u001b[0m \u001b[0;36m0\u001b[0m\u001b[0;34m\u001b[0m\u001b[0;34m\u001b[0m\u001b[0m\n",
      "\u001b[0;31mNameError\u001b[0m: name 'datetime' is not defined"
     ]
    }
   ],
   "source": [
    "start_date = datetime.datetime(2020, 3, 16, 00, 00, 00)\n",
    "end_date = datetime.datetime(2020, 3, 17, 00, 00, 00)\n",
    "\n",
    "total = 0\n",
    "china = 0\n",
    "korea = 0\n",
    "italy = 0\n",
    "japan = 0\n",
    "iran = 0\n",
    "singapore = 0\n",
    "us = 0\n",
    "\n",
    "# Open/Create a file to append data\n",
    "csvFile = open('03_16.csv', 'a')\n",
    "#Use csv Writer\n",
    "csvWriter = csv.writer(csvFile)\n",
    "\n",
    "for tweet in tweepy.Cursor(api.search,q=\"#Coronavirus\",\n",
    "                           since=start_date,\n",
    "                           until=end_date).items():\n",
    "    content = tweet.text.lower()\n",
    "    total = total + 1\n",
    "    csvWriter.writerow([tweet.created_at, tweet.text.encode('utf-8')])\n",
    "    if(\"china\" in content or \"chinese\" in content):\n",
    "        china = china + 1\n",
    "    if(\"korea\" in content or \"korean\" in content):\n",
    "        korea = korea + 1\n",
    "    if(\"italy\" in content or \"italian\" in content):\n",
    "        italy = italy + 1\n",
    "    if(\"japan\" in content or \"japanese\" in content):\n",
    "        japan = japan + 1\n",
    "    if(\"iran\" in content or \"iranian\" in content):\n",
    "        iran = iran + 1\n",
    "    if(\"singapore\" in content or \"signaporean\" in content):\n",
    "        signapore = singapore + 1\n",
    "    if(\"us\" in content or \"usa\" in content or \"america\" in content or \"american\" in content):\n",
    "        us = us + 1\n",
    "\n",
    "print(total)\n",
    "print(china)\n",
    "print(korea)\n",
    "print(italy)\n",
    "print(japan)\n",
    "print(iran)\n",
    "print(singapore)\n",
    "print(us)"
   ]
  },
  {
   "cell_type": "markdown",
   "metadata": {},
   "source": [
    "### 3/21"
   ]
  },
  {
   "cell_type": "code",
   "execution_count": 8,
   "metadata": {},
   "outputs": [
    {
     "name": "stdout",
     "output_type": "stream",
     "text": [
      "7009\n",
      "14\n",
      "169\n",
      "17\n",
      "3\n",
      "42\n",
      "0\n",
      "4073\n"
     ]
    }
   ],
   "source": [
    "start_date = datetime.datetime(2020, 3, 21, 00, 00, 00)\n",
    "end_date = datetime.datetime(2020, 3, 22, 00, 00, 00)\n",
    "\n",
    "total = 0\n",
    "china = 0\n",
    "korea = 0\n",
    "italy = 0\n",
    "japan = 0\n",
    "iran = 0\n",
    "singapore = 0\n",
    "us = 0\n",
    "\n",
    "# Open/Create a file to append data\n",
    "csvFile = open('03_21.csv', 'a')\n",
    "#Use csv Writer\n",
    "csvWriter = csv.writer(csvFile)\n",
    "\n",
    "for tweet in tweepy.Cursor(api.search,q=\"#Coronavirus\",\n",
    "                           since=start_date,\n",
    "                           until=end_date).items():\n",
    "    content = tweet.text.lower()\n",
    "    total = total + 1\n",
    "    csvWriter.writerow([tweet.created_at, tweet.text.encode('utf-8')])\n",
    "    if(\"china\" in content or \"chinese\" in content):\n",
    "        china = china + 1\n",
    "    if(\"korea\" in content or \"korean\" in content):\n",
    "        korea = korea + 1\n",
    "    if(\"italy\" in content or \"italian\" in content):\n",
    "        italy = italy + 1\n",
    "    if(\"japan\" in content or \"japanese\" in content):\n",
    "        japan = japan + 1\n",
    "    if(\"iran\" in content or \"iranian\" in content):\n",
    "        iran = iran + 1\n",
    "    if(\"singapore\" in content or \"signaporean\" in content):\n",
    "        signapore = singapore + 1\n",
    "    if(\"us\" in content or \"usa\" in content or \"america\" in content or \"american\" in content):\n",
    "        us = us + 1\n",
    "\n",
    "print(total)\n",
    "print(china)\n",
    "print(korea)\n",
    "print(italy)\n",
    "print(japan)\n",
    "print(iran)\n",
    "print(singapore)\n",
    "print(us)"
   ]
  },
  {
   "cell_type": "markdown",
   "metadata": {},
   "source": [
    "# Visualization"
   ]
  },
  {
   "cell_type": "markdown",
   "metadata": {},
   "source": [
    "### Weekly Compare"
   ]
  },
  {
   "cell_type": "code",
   "execution_count": 31,
   "metadata": {},
   "outputs": [],
   "source": [
    "import matplotlib.pyplot as plt; plt.rcdefaults()\n",
    "import numpy as np\n",
    "import matplotlib.pyplot as plt\n",
    "import pandas as pd"
   ]
  },
  {
   "cell_type": "code",
   "execution_count": 32,
   "metadata": {},
   "outputs": [
    {
     "data": {
      "image/png": "[encoded data removed]",
      "text/plain": [
       "<Figure size 640x480 with 1 Axes>"
      ]
     },
     "metadata": {},
     "output_type": "display_data"
    }
   ],
   "source": [
    "objects = ('1/14-1/20', '1/21-1/27', '1/28-2/3', '2/4-2/10', '2/11-2/17', '2/18-2/25')\n",
    "y_pos = np.arange(len(objects))\n",
    "performance = [0,0,0,0,0,1514]\n",
    "\n",
    "plt.bar(y_pos, performance, align='center', alpha=0.5)\n",
    "plt.xticks(y_pos, objects, rotation=60)\n",
    "plt.ylabel('The Number of Tweets in a Week')\n",
    "plt.title('Week')\n",
    "\n",
    "plt.show()"
   ]
  },
  {
   "cell_type": "markdown",
   "metadata": {},
   "source": [
    "Day 1: 02/22"
   ]
  },
  {
   "cell_type": "code",
   "execution_count": 34,
   "metadata": {},
   "outputs": [
    {
     "data": {
      "text/plain": [
       "Text(0, 0.5, 'The Number of Tweets in a Day')"
      ]
     },
     "execution_count": 34,
     "metadata": {},
     "output_type": "execute_result"
    },
    {
     "data": {
      "image/png": "[encoded data removed]",
      "text/plain": [
       "<Figure size 640x480 with 1 Axes>"
      ]
     },
     "metadata": {},
     "output_type": "display_data"
    }
   ],
   "source": [
    "# Make a data frame\n",
    "df=pd.DataFrame({'x': range(1,13),\n",
    "                'Total': [140, 1379, 1277, 1173, 1257, 1270, 1228, 1419, 1250, 1807, 1579, 1269], \n",
    "                'China': [15, 27, 71, 55, 36, 63, 17, 295, 46, 11, 12, 36], \n",
    "                'Korea': [0, 5, 31, 18, 41, 36, 29, 22, 9, 17, 10, 8], \n",
    "                'Italy': [2, 6, 17, 15, 43, 20, 29, 99, 47, 69, 19, 30],\n",
    "                'Japan': [0, 7, 6, 4, 0, 13, 5, 7, 2, 3, 10, 5],\n",
    "                'Iran': [0, 61, 8, 18, 42, 32, 22, 8, 5, 39, 28, 31], \n",
    "                'Singapore': [0, 0, 0, 0, 0, 0, 0, 0, 0, 0, 0, 0], \n",
    "                'US': [110, 680, 1073, 963, 1010, 936, 840, 1039, 699, 1414, 1186, 947]\n",
    "                 })\n",
    " \n",
    "# style\n",
    "plt.style.use('seaborn-darkgrid')\n",
    " \n",
    "# create a color palette\n",
    "palette = plt.get_cmap('Set1')\n",
    " \n",
    "# multiple line plot\n",
    "num = 0\n",
    "for column in df.drop('x', axis=1):\n",
    "    num = num + 1\n",
    "    plt.plot(df['x'], df[column], marker='', color=palette(num), linewidth=1, alpha=0.9, label=column)\n",
    " \n",
    "# Add legend\n",
    "plt.legend(loc=2, ncol=2)\n",
    " \n",
    "# Add titles\n",
    "plt.title(\"Trend Analysis of Keyword Countries\", loc='center', fontsize=12, fontweight=0, color='orange')\n",
    "plt.xlabel(\"Time\")\n",
    "plt.ylabel(\"The Number of Tweets in a Day\")"
   ]
  },
  {
   "cell_type": "code",
   "execution_count": 35,
   "metadata": {},
   "outputs": [
    {
     "data": {
      "text/plain": [
       "Text(0, 0.5, 'The Number of Tweets in a Day')"
      ]
     },
     "execution_count": 35,
     "metadata": {},
     "output_type": "execute_result"
    },
    {
     "data": {
      "image/png": "[encoded data removed]",
      "text/plain": [
       "<Figure size 640x480 with 1 Axes>"
      ]
     },
     "metadata": {},
     "output_type": "display_data"
    }
   ],
   "source": [
    "# Make a data frame\n",
    "df=pd.DataFrame({'x': range(1,13), \n",
    "                'China': [15, 27, 71, 55, 36, 63, 17, 295, 46, 11, 12, 36], \n",
    "                'Korea': [0, 5, 31, 18, 41, 36, 29, 22, 9, 17, 10, 8], \n",
    "                'Italy': [2, 6, 17, 15, 43, 20, 29, 99, 47, 69, 19, 30],\n",
    "                'Japan': [0, 7, 6, 4, 0, 13, 5, 7, 2, 3, 10, 5],\n",
    "                'Iran': [0, 61, 8, 18, 42, 32, 22, 8, 5, 39, 28, 31], \n",
    "                'Singapore': [0, 0, 0, 0, 0, 0, 0, 0, 0, 0, 0, 0], \n",
    "                 })\n",
    " \n",
    "# style\n",
    "plt.style.use('seaborn-darkgrid')\n",
    " \n",
    "# create a color palette\n",
    "palette = plt.get_cmap('Set1')\n",
    " \n",
    "# multiple line plot\n",
    "num = 0\n",
    "for column in df.drop('x', axis=1):\n",
    "    num = num + 1\n",
    "    plt.plot(df['x'], df[column], marker='', color=palette(num), linewidth=1, alpha=0.9, label=column)\n",
    " \n",
    "# Add legend\n",
    "plt.legend(loc=2, ncol=2)\n",
    " \n",
    "# Add titles\n",
    "plt.title(\"Trend Analysis of Keyword Countries\", loc='center', fontsize=12, fontweight=0, color='orange')\n",
    "plt.xlabel(\"Time\")\n",
    "plt.ylabel(\"The Number of Tweets in a Day\")"
   ]
  },
  {
   "cell_type": "code",
   "execution_count": 36,
   "metadata": {},
   "outputs": [
    {
     "data": {
      "text/plain": [
       "Text(0, 0.5, 'The Number of Tweets in a Day')"
      ]
     },
     "execution_count": 36,
     "metadata": {},
     "output_type": "execute_result"
    },
    {
     "data": {
      "image/png": "[encoded data removed]",
      "text/plain": [
       "<Figure size 640x480 with 1 Axes>"
      ]
     },
     "metadata": {},
     "output_type": "display_data"
    }
   ],
   "source": [
    "# Make a data frame\n",
    "df=pd.DataFrame({'x': range(1,13),\n",
    "                'Korea': [0, 5, 31, 18, 41, 36, 29, 22, 9, 17, 10, 8], \n",
    "                'Italy': [2, 6, 17, 15, 43, 20, 29, 99, 47, 69, 19, 30],\n",
    "                'Japan': [0, 7, 6, 4, 0, 13, 5, 7, 2, 3, 10, 5],\n",
    "                'Iran': [0, 61, 8, 18, 42, 32, 22, 8, 5, 39, 28, 31], \n",
    "                'Singapore': [0, 0, 0, 0, 0, 0, 0, 0, 0, 0, 0, 0], \n",
    "                 })\n",
    "\n",
    "# style\n",
    "plt.style.use('seaborn-darkgrid')\n",
    " \n",
    "# create a color palette\n",
    "palette = plt.get_cmap('Set1')\n",
    " \n",
    "# multiple line plot\n",
    "num = 0\n",
    "for column in df.drop('x', axis=1):\n",
    "    num = num + 1\n",
    "    plt.plot(df['x'], df[column], marker='', color=palette(num), linewidth=1, alpha=0.9, label=column)\n",
    " \n",
    "# Add legend\n",
    "plt.legend(loc=2, ncol=2)\n",
    " \n",
    "# Add titles\n",
    "plt.title(\"Trend Analysis of Keyword Countries\", loc='center', fontsize=12, fontweight=0, color='orange')\n",
    "plt.xlabel(\"Time\")\n",
    "plt.ylabel(\"The Number of Tweets in a Day\")"
   ]
  },
  {
   "cell_type": "markdown",
   "metadata": {},
   "source": [
    "Total number of tweets increases extremely on day 1, day 3, and day 9."
   ]
  },
  {
   "cell_type": "raw",
   "metadata": {},
   "source": [
    "The total number of tweets about Coronavirus increases severely on day 1, day 3, and day 8.\n",
    "Day 2: might be related to Iran.\n",
    "Day 8: might be related to Italy and China."
   ]
  },
  {
   "cell_type": "code",
   "execution_count": null,
   "metadata": {},
   "outputs": [],
   "source": []
  }
 ],
 "metadata": {
  "kernelspec": {
   "display_name": "Python 3",
   "language": "python",
   "name": "python3"
  },
  "language_info": {
   "codemirror_mode": {
    "name": "ipython",
    "version": 3
   },
   "file_extension": ".py",
   "mimetype": "text/x-python",
   "name": "python",
   "nbconvert_exporter": "python",
   "pygments_lexer": "ipython3",
   "version": "3.8.0"
  }
 },
 "nbformat": 4,
 "nbformat_minor": 4
}
